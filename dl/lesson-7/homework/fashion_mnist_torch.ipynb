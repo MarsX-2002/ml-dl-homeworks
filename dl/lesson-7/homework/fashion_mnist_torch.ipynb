{
 "cells": [
  {
   "cell_type": "markdown",
   "id": "b8083763",
   "metadata": {},
   "source": [
    "1. load dataset"
   ]
  },
  {
   "cell_type": "code",
   "execution_count": 42,
   "id": "e62daaa7",
   "metadata": {},
   "outputs": [
    {
     "name": "stdout",
     "output_type": "stream",
     "text": [
      "train_data: 60000\n",
      "test_data: 10000\n"
     ]
    }
   ],
   "source": [
    "import torch\n",
    "from torchvision import datasets, transforms\n",
    "\n",
    "# transform: converts images to tensors and normalizes them\n",
    "transform = transforms.ToTensor()\n",
    "\n",
    "train_data = datasets.FashionMNIST(\n",
    "    root=\"data\",\n",
    "    train=True,\n",
    "    download=True,\n",
    "    transform=transform,\n",
    ")\n",
    "\n",
    "test_data = datasets.FashionMNIST(\n",
    "    root=\"data\",\n",
    "    train=False,\n",
    "    download=True,\n",
    "    transform=transform,\n",
    ")\n",
    "\n",
    "print(f\"train_data: {len(train_data)}\")\n",
    "print(f\"test_data: {len(test_data)}\")"
   ]
  },
  {
   "cell_type": "markdown",
   "id": "c27746a7",
   "metadata": {},
   "source": [
    "2. with DataLoader shuffle and batch data"
   ]
  },
  {
   "cell_type": "code",
   "execution_count": 43,
   "id": "2f735050",
   "metadata": {},
   "outputs": [],
   "source": [
    "from torch.utils.data import DataLoader\n",
    "\n",
    "batch_size = 64\n",
    "\n",
    "train_loader = DataLoader(train_data, batch_size=batch_size, shuffle=True)\n",
    "test_loader = DataLoader(test_data, batch_size=batch_size)"
   ]
  },
  {
   "cell_type": "code",
   "execution_count": 44,
   "id": "8511aa8a",
   "metadata": {},
   "outputs": [
    {
     "name": "stdout",
     "output_type": "stream",
     "text": [
      "torch.Size([64, 1, 28, 28])\n",
      "torch.Size([64])\n"
     ]
    }
   ],
   "source": [
    "images, labels = next(iter(train_loader))\n",
    "\n",
    "print(images.shape)\n",
    "print(labels.shape)\n",
    "\n",
    "# 64 images, 1 channel (grayscale), 28x28 pixels\n",
    "# each emage with 1 class label (0-9)"
   ]
  },
  {
   "cell_type": "markdown",
   "id": "c4ba3605",
   "metadata": {},
   "source": [
    "3. build the model"
   ]
  },
  {
   "cell_type": "code",
   "execution_count": 45,
   "id": "85d9b1f0",
   "metadata": {},
   "outputs": [
    {
     "data": {
      "text/plain": [
       "FashionMNISTModel(\n",
       "  (fc1): Linear(in_features=784, out_features=128, bias=True)\n",
       "  (fc2): Linear(in_features=128, out_features=64, bias=True)\n",
       "  (fc3): Linear(in_features=64, out_features=10, bias=True)\n",
       ")"
      ]
     },
     "execution_count": 45,
     "metadata": {},
     "output_type": "execute_result"
    }
   ],
   "source": [
    "import torch.nn as nn\n",
    "import torch.nn.functional as F\n",
    "\n",
    "class FashionMNISTModel(nn.Module):\n",
    "    def __init__(self):\n",
    "        super().__init__()\n",
    "        self.fc1 = nn.Linear(28 * 28, 128)  # 1st hidden layer\n",
    "        self.fc2 = nn.Linear(128, 64)  # 2nd hidden layer\n",
    "        self.fc3 = nn.Linear(64, 10)  # output layer (10 classes)\n",
    "\n",
    "    def forward(self, x):\n",
    "        x = x.view(x.shape[0], -1)  # flatten 28x28 -> 784\n",
    "        x = F.relu(self.fc1(x))\n",
    "        x = F.relu(self.fc2(x))\n",
    "        x = self.fc3(x)  # logits (no softwax yet)\n",
    "        return x\n",
    "\n",
    "device = torch.device(\"cpu\")\n",
    "model = FashionMNISTModel().to(device)\n",
    "model     \n",
    "        "
   ]
  },
  {
   "cell_type": "markdown",
   "id": "18d8a940",
   "metadata": {},
   "source": [
    "4. loss and optimizer   "
   ]
  },
  {
   "cell_type": "code",
   "execution_count": 46,
   "id": "7caee5ac",
   "metadata": {},
   "outputs": [],
   "source": [
    "import torch.optim as optim\n",
    "\n",
    "loss_fn = nn.CrossEntropyLoss()\n",
    "optimizer = optim.Adam(model.parameters(), lr=0.01)  # updates paramaters (weights and biases) using Adam optimizer"
   ]
  },
  {
   "cell_type": "code",
   "execution_count": 47,
   "id": "77fcc977",
   "metadata": {},
   "outputs": [
    {
     "name": "stdout",
     "output_type": "stream",
     "text": [
      "<bound method Module.parameters of FashionMNISTModel(\n",
      "  (fc1): Linear(in_features=784, out_features=128, bias=True)\n",
      "  (fc2): Linear(in_features=128, out_features=64, bias=True)\n",
      "  (fc3): Linear(in_features=64, out_features=10, bias=True)\n",
      ")>\n"
     ]
    }
   ],
   "source": [
    "print(model.parameters)"
   ]
  },
  {
   "cell_type": "markdown",
   "id": "9f233186",
   "metadata": {},
   "source": [
    "5. training loop"
   ]
  },
  {
   "cell_type": "code",
   "execution_count": 48,
   "id": "f06ed827",
   "metadata": {},
   "outputs": [
    {
     "name": "stdout",
     "output_type": "stream",
     "text": [
      "Epoch [1/5], Loss: 0.5173\n",
      "Epoch [2/5], Loss: 0.4067\n",
      "Epoch [3/5], Loss: 0.3773\n",
      "Epoch [4/5], Loss: 0.3737\n",
      "Epoch [5/5], Loss: 0.3555\n"
     ]
    }
   ],
   "source": [
    "epochs = 5\n",
    "\n",
    "for epoch in range(epochs):\n",
    "    model.train()  # train mode, enables gradient updates\n",
    "    running_loss = 0.0\n",
    "\n",
    "    for images, labels in train_loader:\n",
    "        images, labels = images.to(device), labels.to(device)\n",
    "        optimizer.zero_grad()  # clear old gradients\n",
    "        outputs = model(images)  # forward pass\n",
    "        loss = loss_fn(outputs, labels)\n",
    "        loss.backward()  # compute gradients\n",
    "        optimizer.step()  # update weights\n",
    "        running_loss += loss.item()\n",
    "\n",
    "    print(f\"Epoch [{epoch+1}/{epochs}], Loss: {running_loss/len(train_loader):.4f}\")\n",
    "        \n",
    "        \n",
    "        "
   ]
  },
  {
   "cell_type": "markdown",
   "id": "f1db07c4",
   "metadata": {},
   "source": [
    "6. evaluation"
   ]
  },
  {
   "cell_type": "code",
   "execution_count": 49,
   "id": "358ee98d",
   "metadata": {},
   "outputs": [
    {
     "name": "stdout",
     "output_type": "stream",
     "text": [
      "Test accuracy: 85.94%\n",
      "correct:  8594\n",
      "total:  10000\n"
     ]
    }
   ],
   "source": [
    "correct = 0\n",
    "total = 0\n",
    "\n",
    "model.eval()  # eval mode (turns off batchnorm, dropout)\n",
    "with torch.no_grad():\n",
    "    for images, labels in test_loader:\n",
    "        images, labels = images.to(device), labels.to(device)\n",
    "        outputs = model(images)\n",
    "        _, predicted = torch.max(outputs, 1)\n",
    "        total += labels.size(0)\n",
    "        correct += (predicted == labels).sum().item()\n",
    "\n",
    "accuracy = 100 * correct / total \n",
    "print(f\"Test accuracy: {accuracy:.2f}%\")     \n",
    "print(\"correct: \", correct)   \n",
    "print(\"total: \", total)\n",
    "\n",
    "        \n"
   ]
  },
  {
   "cell_type": "markdown",
   "id": "3ba10ccc",
   "metadata": {},
   "source": [
    "7. inference"
   ]
  },
  {
   "cell_type": "code",
   "execution_count": 50,
   "id": "1a8e552f",
   "metadata": {},
   "outputs": [
    {
     "data": {
      "image/png": "[encoded data removed]",
      "text/plain": [
       "<Figure size 640x480 with 1 Axes>"
      ]
     },
     "metadata": {},
     "output_type": "display_data"
    }
   ],
   "source": [
    "# true label\n",
    "import matplotlib.pyplot as plt\n",
    "\n",
    "image, label = test_data[9902]\n",
    "\n",
    "plt.imshow(image.squeeze(), cmap=\"gray\")\n",
    "plt.title(f\"True Label: {label}\")\n",
    "plt.show()"
   ]
  },
  {
   "cell_type": "code",
   "execution_count": 51,
   "id": "d6098a6b",
   "metadata": {},
   "outputs": [
    {
     "name": "stdout",
     "output_type": "stream",
     "text": [
      "Predicted label: 0\n"
     ]
    }
   ],
   "source": [
    "# predicted label\n",
    "model.eval()\n",
    "with torch.no_grad():\n",
    "    image = image.unsqueeze(0)  # add batch dimension [1, 1, 28, 28]\n",
    "    output = model(image)\n",
    "    pred = torch.argmax(output, dim=1).item()\n",
    "    print(f\"Predicted label: {pred}\")\n",
    "    "
   ]
  },
  {
   "cell_type": "code",
   "execution_count": 52,
   "id": "d3101fb9",
   "metadata": {},
   "outputs": [
    {
     "name": "stdout",
     "output_type": "stream",
     "text": [
      "Predicted: T-shirt/top\n",
      "Actual: T-shirt/top\n"
     ]
    }
   ],
   "source": [
    "classes = [\n",
    "    \"T-shirt/top\", \"Trouser\", \"Pullover\", \"Dress\", \"Coat\",\n",
    "    \"Sandal\", \"Shirt\", \"Sneaker\", \"Bag\", \"Ankle boot\"\n",
    "]\n",
    "\n",
    "print(\"Predicted:\", classes[pred])\n",
    "print(\"Actual:\", classes[label])\n"
   ]
  },
  {
   "cell_type": "markdown",
   "id": "bf26587e",
   "metadata": {},
   "source": [
    "8. save model"
   ]
  },
  {
   "cell_type": "code",
   "execution_count": 53,
   "id": "3ab8f6c5",
   "metadata": {},
   "outputs": [],
   "source": [
    "torch.save(model.state_dict(), \"fashion_mnist_torch.pth\")"
   ]
  },
  {
   "cell_type": "markdown",
   "id": "9f40117c",
   "metadata": {},
   "source": [
    "9. load model "
   ]
  },
  {
   "cell_type": "code",
   "execution_count": 54,
   "id": "b0cdafcd",
   "metadata": {},
   "outputs": [],
   "source": [
    "# model = FashionMNISTModel()\n",
    "# model.load_state_dict(torch.load(\"fashion_mnist_torch.pth\"))\n",
    "# model.eval()"
   ]
  },
  {
   "cell_type": "markdown",
   "id": "ccec631b",
   "metadata": {},
   "source": [
    "10. save checkpoint for later resume training"
   ]
  },
  {
   "cell_type": "code",
   "execution_count": null,
   "id": "a9d79caf",
   "metadata": {},
   "outputs": [],
   "source": [
    "torch.save({\n",
    "    \"epoch\": epoch,\n",
    "    \"model_state_dict\": model.state_dict(),\n",
    "    \"optimizer_state_dict\": optimizer.state_dict(),  # stateful\n",
    "    \"loss\": loss\n",
    "}, \"checkpoint.pth\")"
   ]
  },
  {
   "cell_type": "markdown",
   "id": "413560e8",
   "metadata": {},
   "source": [
    "11. load checkpoint"
   ]
  },
  {
   "cell_type": "code",
   "execution_count": 56,
   "id": "b397c9b6",
   "metadata": {},
   "outputs": [],
   "source": [
    "# checkpoint = torch.load(\"checkpoint.pth\")\n",
    "\n",
    "# model = FashionMNISTModel()\n",
    "# optimizer = torch.optim.Adam(model.parameters(), lr=0.001)\n",
    "\n",
    "# model.load_state_dict(checkpoint[\"model_state_dict\"])\n",
    "# optimizer.load_state_dict(checkpoint[\"optimizer_state_dict\"])\n",
    "\n",
    "# epoch = checkpoint[\"epoch\"]\n",
    "# loss = checkpoint[\"loss\"]\n",
    "\n",
    "# model.train()\n",
    "\n"
   ]
  },
  {
   "cell_type": "code",
   "execution_count": 57,
   "id": "cf62a7fc",
   "metadata": {},
   "outputs": [
    {
     "name": "stdout",
     "output_type": "stream",
     "text": [
      "Full model saved!\n"
     ]
    }
   ],
   "source": [
    "\n",
    "torch.save(model, \"fashion_mnist_full_model.pth\")\n",
    "print(\"Full model saved!\")\n"
   ]
  },
  {
   "cell_type": "code",
   "execution_count": null,
   "id": "61aae34d",
   "metadata": {},
   "outputs": [],
   "source": []
  }
 ],
 "metadata": {
  "kernelspec": {
   "display_name": ".venv",
   "language": "python",
   "name": "python3"
  },
  "language_info": {
   "codemirror_mode": {
    "name": "ipython",
    "version": 3
   },
   "file_extension": ".py",
   "mimetype": "text/x-python",
   "name": "python",
   "nbconvert_exporter": "python",
   "pygments_lexer": "ipython3",
   "version": "3.12.3"
  }
 },
 "nbformat": 4,
 "nbformat_minor": 5
}
