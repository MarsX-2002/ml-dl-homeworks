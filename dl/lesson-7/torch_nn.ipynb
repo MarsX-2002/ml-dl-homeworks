{
  "nbformat": 4,
  "nbformat_minor": 0,
  "metadata": {
    "colab": {
      "provenance": []
    },
    "kernelspec": {
      "name": "python3",
      "display_name": "Python 3"
    },
    "language_info": {
      "name": "python"
    }
  },
  "cells": [
    {
      "cell_type": "markdown",
      "source": [
        "## **Creating Models with `torch.nn`**\n",
        "\n",
        "The `torch.nn` module provides a flexible way to define and train neural networks. In this section, we will cover:\n",
        "- Subclassing `nn.Module`\n",
        "- Understanding `__init__` and `forward`\n",
        "- Using the model for inference\n",
        "- Model attributes and methods\n",
        "- Exploring other useful classes in `torch.nn`"
      ],
      "metadata": {
        "id": "AY2jvAS2omMN"
      }
    },
    {
      "cell_type": "code",
      "source": [
        "import torch\n",
        "import torch.nn as nn\n",
        "import torch.optim as optim"
      ],
      "metadata": {
        "id": "JuCu1mVFs3tV"
      },
      "execution_count": 1,
      "outputs": []
    },
    {
      "cell_type": "code",
      "execution_count": 11,
      "metadata": {
        "id": "U7BHicMCoYun"
      },
      "outputs": [],
      "source": [
        "class Linear:\n",
        "    def __init__(self, input_size: int, output_size: int):\n",
        "        self.input_size = input_size\n",
        "        self.output_size = output_size\n",
        "\n",
        "        self.weight = torch.randn(input_size, output_size, requires_grad=True) # weight\n",
        "        self.bias = torch.randn(output_size, requires_grad=True) # bias\n",
        "\n",
        "    def __call__(self, x):\n",
        "        return x @ self.weight + self.bias"
      ]
    },
    {
      "cell_type": "code",
      "source": [
        "x = torch.randn(32, 3)\n",
        "y = torch.randn(32)"
      ],
      "metadata": {
        "id": "_v0341-ms91X"
      },
      "execution_count": 21,
      "outputs": []
    },
    {
      "cell_type": "code",
      "source": [
        "nn.Module"
      ],
      "metadata": {
        "colab": {
          "base_uri": "https://localhost:8080/",
          "height": 186
        },
        "id": "RSotru9BzDXv",
        "outputId": "c53e768f-70d1-4982-d645-a079119f90f2"
      },
      "execution_count": 27,
      "outputs": [
        {
          "output_type": "execute_result",
          "data": {
            "text/plain": [
              "torch.nn.modules.module.Module"
            ],
            "text/html": [
              "<div style=\"max-width:800px; border: 1px solid var(--colab-border-color);\"><style>\n",
              "      pre.function-repr-contents {\n",
              "        overflow-x: auto;\n",
              "        padding: 8px 12px;\n",
              "        max-height: 500px;\n",
              "      }\n",
              "\n",
              "      pre.function-repr-contents.function-repr-contents-collapsed {\n",
              "        cursor: pointer;\n",
              "        max-height: 100px;\n",
              "      }\n",
              "    </style>\n",
              "    <pre style=\"white-space: initial; background:\n",
              "         var(--colab-secondary-surface-color); padding: 8px 12px;\n",
              "         border-bottom: 1px solid var(--colab-border-color);\"><b>torch.nn.modules.module.Module</b><br/>def _wrapped_call_impl(*args, **kwargs)</pre><pre class=\"function-repr-contents function-repr-contents-collapsed\" style=\"\"><a class=\"filepath\" style=\"display:none\" href=\"#\">/usr/local/lib/python3.12/dist-packages/torch/nn/modules/module.py</a>Base class for all neural network modules.\n",
              "\n",
              "Your models should also subclass this class.\n",
              "\n",
              "Modules can also contain other Modules, allowing them to be nested in\n",
              "a tree structure. You can assign the submodules as regular attributes::\n",
              "\n",
              "    import torch.nn as nn\n",
              "    import torch.nn.functional as F\n",
              "\n",
              "\n",
              "    class Model(nn.Module):\n",
              "        def __init__(self) -&gt; None:\n",
              "            super().__init__()\n",
              "            self.conv1 = nn.Conv2d(1, 20, 5)\n",
              "            self.conv2 = nn.Conv2d(20, 20, 5)\n",
              "\n",
              "        def forward(self, x):\n",
              "            x = F.relu(self.conv1(x))\n",
              "            return F.relu(self.conv2(x))\n",
              "\n",
              "Submodules assigned in this way will be registered, and will also have their\n",
              "parameters converted when you call :meth:`to`, etc.\n",
              "\n",
              ".. note::\n",
              "    As per the example above, an ``__init__()`` call to the parent class\n",
              "    must be made before assignment on the child.\n",
              "\n",
              ":ivar training: Boolean represents whether this module is in training or\n",
              "                evaluation mode.\n",
              ":vartype training: bool</pre>\n",
              "      <script>\n",
              "      if (google.colab.kernel.accessAllowed && google.colab.files && google.colab.files.view) {\n",
              "        for (const element of document.querySelectorAll('.filepath')) {\n",
              "          element.style.display = 'block'\n",
              "          element.onclick = (event) => {\n",
              "            event.preventDefault();\n",
              "            event.stopPropagation();\n",
              "            google.colab.files.view(element.textContent, 404);\n",
              "          };\n",
              "        }\n",
              "      }\n",
              "      for (const element of document.querySelectorAll('.function-repr-contents')) {\n",
              "        element.onclick = (event) => {\n",
              "          event.preventDefault();\n",
              "          event.stopPropagation();\n",
              "          element.classList.toggle('function-repr-contents-collapsed');\n",
              "        };\n",
              "      }\n",
              "      </script>\n",
              "      </div>"
            ]
          },
          "metadata": {},
          "execution_count": 27
        }
      ]
    },
    {
      "cell_type": "code",
      "source": [
        "lin1 = nn.Linear(3, 4)\n",
        "for param in lin1.parameters():\n",
        "    print(param)"
      ],
      "metadata": {
        "colab": {
          "base_uri": "https://localhost:8080/"
        },
        "id": "bDFJiJFMzpUx",
        "outputId": "30e9bc7f-0f02-45a7-8360-5f2e77e43548"
      },
      "execution_count": 31,
      "outputs": [
        {
          "output_type": "stream",
          "name": "stdout",
          "text": [
            "Parameter containing:\n",
            "tensor([[ 0.3128,  0.1561,  0.4977],\n",
            "        [-0.4398,  0.1624, -0.3040],\n",
            "        [ 0.4523, -0.3243, -0.3101],\n",
            "        [ 0.2771, -0.2547,  0.1391]], requires_grad=True)\n",
            "Parameter containing:\n",
            "tensor([ 0.3132,  0.1967, -0.4062, -0.0225], requires_grad=True)\n"
          ]
        }
      ]
    },
    {
      "cell_type": "code",
      "source": [
        "class MyModel(nn.Module):\n",
        "    def __init__(self):\n",
        "        super().__init__() # This is required\n",
        "        self.lin1 = nn.Linear(8, 4)\n",
        "        self.lin2 = nn.Linear(4, 5)\n",
        "        self.lin3 = nn.Linear(5, 3)\n",
        "        self.lin4 = nn.Linear(3, 1)\n",
        "\n",
        "    def forward(self, x):\n",
        "        x = torch.relu(self.lin1(x)) # first hidden layer\n",
        "        x = torch.relu(self.lin2(x)) # second hidden layer\n",
        "        x = torch.relu(self.lin3(x)) # third hidden layer\n",
        "        x = self.lin4(x) # output\n",
        "        return x"
      ],
      "metadata": {
        "id": "vepXGl6JuSyS"
      },
      "execution_count": 53,
      "outputs": []
    },
    {
      "cell_type": "code",
      "source": [
        "calc_loss = nn.MSELoss()"
      ],
      "metadata": {
        "id": "03bxv2vp0T8-"
      },
      "execution_count": 54,
      "outputs": []
    },
    {
      "cell_type": "code",
      "source": [
        "class SGD:\n",
        "    def __init__(self, parameters, lr = 0.001):\n",
        "        self.parameters = parameters\n",
        "        self.lr = lr\n",
        "\n",
        "    def zero_grad(self):\n",
        "        for param in self.parameters:\n",
        "            param.grad = None\n",
        "\n",
        "    def step(self):\n",
        "        for param in self.parameters:\n",
        "            param.data -= param.grad * self.lr"
      ],
      "metadata": {
        "id": "Pla74UbX03Sa"
      },
      "execution_count": 55,
      "outputs": []
    },
    {
      "cell_type": "code",
      "source": [
        "from sklearn.datasets import fetch_california_housing\n",
        "\n",
        "housing = fetch_california_housing()\n",
        "X = torch.tensor(housing.data, dtype=torch.float32)\n",
        "Y = torch.tensor(housing.target, dtype=torch.float32)"
      ],
      "metadata": {
        "id": "I2JQG90o21l_"
      },
      "execution_count": 56,
      "outputs": []
    },
    {
      "cell_type": "code",
      "source": [
        "import matplotlib.pyplot as plt"
      ],
      "metadata": {
        "id": "YIaF4e1J4F6N"
      },
      "execution_count": 9,
      "outputs": []
    },
    {
      "cell_type": "code",
      "source": [
        "# hyperparameters\n",
        "batch_size = 100\n",
        "lr = 0.0001\n",
        "epochs = 10\n",
        "\n",
        "lossi = []\n",
        "\n",
        "model = MyModel() # model\n",
        "calc_loss = nn.MSELoss() # loss calculator\n",
        "optimizer = optim.SGD(model.parameters(), lr=0.00001) # optimizer\n",
        "\n",
        "# training loop\n",
        "for i in range(500):\n",
        "    y_pred = model(X) # forward pass\n",
        "    loss = calc_loss(Y, y_pred.squeeze()) # calculate loss\n",
        "    optimizer.zero_grad() # clear previous gradients\n",
        "    loss.backward() # backward pass\n",
        "    optimizer.step() # update parameters\n",
        "\n",
        "    lossi.append(loss.item())"
      ],
      "metadata": {
        "id": "K9X1YlU-vnrj"
      },
      "execution_count": 62,
      "outputs": []
    },
    {
      "cell_type": "code",
      "source": [
        "plt.plot(lossi);"
      ],
      "metadata": {
        "colab": {
          "base_uri": "https://localhost:8080/",
          "height": 430
        },
        "id": "GGBoAcWExhxj",
        "outputId": "6eb286e2-1e2a-483d-8eea-8fa18397a223"
      },
      "execution_count": 63,
      "outputs": [
        {
          "output_type": "display_data",
          "data": {
            "text/plain": [
              "<Figure size 640x480 with 1 Axes>"
            ],
            "image/png": "[encoded data removed]"
          },
          "metadata": {}
        }
      ]
    },
    {
      "cell_type": "code",
      "source": [
        "Y"
      ],
      "metadata": {
        "colab": {
          "base_uri": "https://localhost:8080/"
        },
        "id": "5K-G9qW54Ola",
        "outputId": "86a66994-cf0b-4b65-f554-e7e7602194a9"
      },
      "execution_count": 64,
      "outputs": [
        {
          "output_type": "execute_result",
          "data": {
            "text/plain": [
              "tensor([4.5260, 3.5850, 3.5210,  ..., 0.9230, 0.8470, 0.8940])"
            ]
          },
          "metadata": {},
          "execution_count": 64
        }
      ]
    },
    {
      "cell_type": "code",
      "source": [
        "from sklearn.datasets import fetch_openml\n",
        "\n",
        "mnist = fetch_openml('mnist_784', as_frame=False)"
      ],
      "metadata": {
        "id": "VoeJOYgg4jTs"
      },
      "execution_count": 2,
      "outputs": []
    },
    {
      "cell_type": "code",
      "source": [
        "X = torch.tensor(mnist.data, dtype=torch.float32)\n",
        "Y = torch.tensor(mnist.target.astype(int), dtype=torch.long)"
      ],
      "metadata": {
        "id": "RVhOO2ZM4-s5"
      },
      "execution_count": 3,
      "outputs": []
    },
    {
      "cell_type": "code",
      "source": [
        "X.shape"
      ],
      "metadata": {
        "colab": {
          "base_uri": "https://localhost:8080/"
        },
        "id": "xVa7SWcz5CRp",
        "outputId": "b0050c68-ab16-4971-c472-34fb7c957bae"
      },
      "execution_count": 4,
      "outputs": [
        {
          "output_type": "execute_result",
          "data": {
            "text/plain": [
              "torch.Size([70000, 784])"
            ]
          },
          "metadata": {},
          "execution_count": 4
        }
      ]
    },
    {
      "cell_type": "code",
      "source": [
        "class DigitRecognizer(nn.Module):\n",
        "    def __init__(self):\n",
        "        super().__init__()\n",
        "        self.fc1 = nn.Linear(784, 1024)\n",
        "        self.relu1 = nn.ReLU()\n",
        "        self.fc2 = nn.Linear(1024, 512)\n",
        "        self.relu2 = nn.ReLU()\n",
        "        self.fc3 = nn.Linear(512, 10)\n",
        "\n",
        "    def forward(self, x):\n",
        "        x = self.fc1(x)\n",
        "        x = self.relu1(x)\n",
        "        x = self.relu2(self.fc2(x))\n",
        "        return self.fc3(x)"
      ],
      "metadata": {
        "id": "db-YaVBg5DIF"
      },
      "execution_count": 5,
      "outputs": []
    },
    {
      "cell_type": "code",
      "source": [
        "model = DigitRecognizer()\n",
        "optimizer = optim.AdamW(model.parameters())\n",
        "loss = nn.CrossEntropyLoss()\n",
        "batch_size = 512\n",
        "\n",
        "lossi = []\n",
        "\n",
        "for epoch in range(10):\n",
        "    model.train()\n",
        "    for ix in range(0, X.shape[0] // batch_size+1):\n",
        "        x = X[ix*batch_size: (ix+1)*batch_size]\n",
        "        y = Y[ix*batch_size: (ix+1)*batch_size]\n",
        "        y_pred = model(x) # training\n",
        "        e = loss(y_pred, y)\n",
        "        optimizer.zero_grad()\n",
        "        e.backward()\n",
        "        optimizer.step()\n",
        "        lossi.append(e.item())\n",
        "        print(e.item())\n",
        "\n",
        "    model.eval()\n",
        "\n",
        "    print(epoch)"
      ],
      "metadata": {
        "colab": {
          "base_uri": "https://localhost:8080/",
          "height": 1000
        },
        "collapsed": true,
        "id": "MpMc0roJ6plT",
        "outputId": "37579acb-1a40-408b-e669-36cf3ad80394"
      },
      "execution_count": 7,
      "outputs": [
        {
          "output_type": "stream",
          "name": "stdout",
          "text": [
            "13.975327491760254\n",
            "33.88453674316406\n",
            "41.25605010986328\n",
            "34.94257736206055\n",
            "34.692073822021484\n",
            "23.907861709594727\n",
            "17.16908073425293\n",
            "13.430001258850098\n",
            "7.234318733215332\n",
            "5.717130184173584\n",
            "3.098489999771118\n",
            "1.7271219491958618\n",
            "1.4034554958343506\n",
            "1.4907323122024536\n",
            "1.1895393133163452\n",
            "1.2771165370941162\n",
            "1.2725235223770142\n",
            "1.2243229150772095\n",
            "0.9202433228492737\n",
            "0.7089358568191528\n",
            "0.742251455783844\n",
            "0.6281055808067322\n",
            "0.7563559412956238\n",
            "0.7256790995597839\n",
            "0.763565719127655\n",
            "0.644403338432312\n",
            "0.5132911801338196\n",
            "0.611086368560791\n",
            "0.6742706298828125\n",
            "0.44171103835105896\n",
            "0.4757654070854187\n",
            "0.4591729938983917\n",
            "0.43145811557769775\n",
            "0.4372059106826782\n",
            "0.4852425754070282\n",
            "0.3224197328090668\n",
            "0.3165295124053955\n",
            "0.28448745608329773\n",
            "0.3091929256916046\n",
            "0.3405647277832031\n",
            "0.43571043014526367\n",
            "0.3294295370578766\n",
            "0.27417340874671936\n",
            "0.3829207420349121\n",
            "0.3872017562389374\n",
            "0.23452647030353546\n",
            "0.30251622200012207\n",
            "0.26982513070106506\n",
            "0.26910400390625\n",
            "0.26821067929267883\n",
            "0.262249618768692\n",
            "0.2978256046772003\n",
            "0.30713099241256714\n",
            "0.2661133110523224\n",
            "0.23583786189556122\n",
            "0.3220926523208618\n",
            "0.2188507467508316\n",
            "0.2599433362483978\n",
            "0.3269008696079254\n",
            "0.21870951354503632\n",
            "0.30322423577308655\n",
            "0.3644654154777527\n",
            "0.21994325518608093\n",
            "0.27336615324020386\n",
            "0.18958108127117157\n",
            "0.2233854979276657\n",
            "0.11550091207027435\n",
            "0.27821084856987\n",
            "0.23275958001613617\n",
            "0.16699539124965668\n",
            "0.20200540125370026\n",
            "0.21178308129310608\n",
            "0.25160709023475647\n",
            "0.31832268834114075\n",
            "0.18527092039585114\n",
            "0.16986748576164246\n",
            "0.2397586852312088\n",
            "0.23167331516742706\n",
            "0.20539237558841705\n",
            "0.15762604773044586\n",
            "0.25746670365333557\n",
            "0.1528998166322708\n",
            "0.25023341178894043\n",
            "0.2574177384376526\n",
            "0.16765011847019196\n",
            "0.1704447716474533\n",
            "0.21850009262561798\n",
            "0.198464035987854\n",
            "0.185810387134552\n",
            "0.21256491541862488\n",
            "0.2532840073108673\n",
            "0.1646839678287506\n",
            "0.2556411325931549\n",
            "0.15489144623279572\n",
            "0.15866799652576447\n",
            "0.22378629446029663\n",
            "0.24651150405406952\n",
            "0.23101215064525604\n",
            "0.30526497960090637\n",
            "0.12140650302171707\n",
            "0.13915111124515533\n",
            "0.21160954236984253\n",
            "0.16773658990859985\n",
            "0.29305940866470337\n",
            "0.15249015390872955\n",
            "0.18361622095108032\n",
            "0.10929300636053085\n",
            "0.16777510941028595\n",
            "0.18502448499202728\n",
            "0.1459347903728485\n",
            "0.12551389634609222\n",
            "0.11061806976795197\n",
            "0.1665917932987213\n",
            "0.0839063823223114\n",
            "0.10826905816793442\n",
            "0.10651461780071259\n",
            "0.14482180774211884\n",
            "0.14653246104717255\n",
            "0.17214278876781464\n",
            "0.2286549210548401\n",
            "0.23427295684814453\n",
            "0.28135910630226135\n",
            "0.148891881108284\n",
            "0.12878815829753876\n",
            "0.23600740730762482\n",
            "0.170169398188591\n",
            "0.14248232543468475\n",
            "0.06817608326673508\n",
            "0.17559513449668884\n",
            "0.09753309935331345\n",
            "0.11028778553009033\n",
            "0.056394025683403015\n",
            "0.10416463762521744\n",
            "0.07305095344781876\n",
            "0.03242845460772514\n",
            "0.059676822274923325\n",
            "0.3032318949699402\n",
            "0\n",
            "0.14936929941177368\n",
            "0.18619459867477417\n",
            "0.24474887549877167\n",
            "0.10950320959091187\n",
            "0.07855387777090073\n",
            "0.12532474100589752\n",
            "0.07935965061187744\n",
            "0.11049173772335052\n",
            "0.1306961625814438\n",
            "0.1361054927110672\n",
            "0.12363103032112122\n",
            "0.16386626660823822\n",
            "0.1134449914097786\n",
            "0.18065470457077026\n",
            "0.14511330425739288\n",
            "0.16629073023796082\n",
            "0.20718634128570557\n",
            "0.19786258041858673\n",
            "0.11844349652528763\n",
            "0.11875221878290176\n",
            "0.08962352573871613\n",
            "0.12074803560972214\n",
            "0.11963073909282684\n",
            "0.12421584129333496\n",
            "0.2140912562608719\n",
            "0.1419830024242401\n",
            "0.1083349883556366\n",
            "0.1486864537000656\n",
            "0.14545153081417084\n",
            "0.12388455122709274\n",
            "0.13916319608688354\n",
            "0.08474808186292648\n",
            "0.1403839886188507\n",
            "0.12150683999061584\n",
            "0.15086722373962402\n",
            "0.09488077461719513\n",
            "0.07081896811723709\n",
            "0.09744618088006973\n",
            "0.1011638268828392\n",
            "0.12700463831424713\n",
            "0.175468310713768\n",
            "0.07850448042154312\n",
            "0.10556434839963913\n",
            "0.11363235116004944\n",
            "0.09311943501234055\n",
            "0.07892076671123505\n",
            "0.13693875074386597\n",
            "0.1041358932852745\n",
            "0.0907500684261322\n",
            "0.1266316920518875\n",
            "0.1297154724597931\n",
            "0.12280585616827011\n",
            "0.138932466506958\n",
            "0.1328604519367218\n",
            "0.10521522164344788\n",
            "0.10115420818328857\n",
            "0.08891497552394867\n",
            "0.10562621802091599\n",
            "0.12659533321857452\n",
            "0.1041465550661087\n",
            "0.14009404182434082\n",
            "0.16226769983768463\n",
            "0.0916871726512909\n",
            "0.13351745903491974\n",
            "0.07731307297945023\n",
            "0.09070702642202377\n",
            "0.039833586663007736\n",
            "0.12994636595249176\n",
            "0.1205463856458664\n",
            "0.08793000131845474\n",
            "0.11067254841327667\n",
            "0.10543222725391388\n",
            "0.14034046232700348\n",
            "0.1340748816728592\n",
            "0.07648447155952454\n",
            "0.0763082504272461\n",
            "0.12921950221061707\n",
            "0.11534591764211655\n",
            "0.08818940818309784\n",
            "0.07915222644805908\n",
            "0.12459953129291534\n",
            "0.07849650084972382\n",
            "0.10944551229476929\n",
            "0.12243561446666718\n",
            "0.08195219933986664\n",
            "0.09962324798107147\n",
            "0.10911725461483002\n",
            "0.08792008459568024\n",
            "0.09940966963768005\n",
            "0.12539999186992645\n",
            "0.14922885596752167\n",
            "0.09347646683454514\n",
            "0.17759878933429718\n",
            "0.08351651579141617\n",
            "0.07442944496870041\n",
            "0.1258508861064911\n",
            "0.12571009993553162\n",
            "0.1497131586074829\n",
            "0.14562495052814484\n",
            "0.04367176070809364\n",
            "0.08141940087080002\n",
            "0.09076394140720367\n",
            "0.07488439232110977\n",
            "0.13339076936244965\n",
            "0.0869688168168068\n",
            "0.10104604065418243\n",
            "0.059804629534482956\n",
            "0.07727064192295074\n",
            "0.12872426211833954\n",
            "0.07099594920873642\n",
            "0.07022520899772644\n",
            "0.06582850217819214\n",
            "0.0922304019331932\n",
            "0.04811050370335579\n",
            "0.06148478761315346\n",
            "0.053167760372161865\n",
            "0.08777734637260437\n",
            "0.09362941235303879\n",
            "0.08634625375270844\n",
            "0.13696807622909546\n",
            "0.137518048286438\n",
            "0.1503073275089264\n",
            "0.10754500329494476\n",
            "0.06119503453373909\n",
            "0.12740874290466309\n",
            "0.08398227393627167\n",
            "0.08044636249542236\n",
            "0.037808991968631744\n",
            "0.09038354456424713\n",
            "0.03218547999858856\n",
            "0.06291893869638443\n",
            "0.017808839678764343\n",
            "0.041880398988723755\n",
            "0.03086993284523487\n",
            "0.0065409340895712376\n",
            "0.023742925375699997\n",
            "0.14046746492385864\n",
            "1\n",
            "0.08305323868989944\n",
            "0.11166688799858093\n",
            "0.14492228627204895\n",
            "0.06392452120780945\n",
            "0.02981002815067768\n",
            "0.06725221872329712\n",
            "0.02815692499279976\n",
            "0.054829612374305725\n",
            "0.06537766754627228\n",
            "0.062335431575775146\n",
            "0.0681273490190506\n",
            "0.09261824190616608\n",
            "0.04145421087741852\n",
            "0.1181616559624672\n",
            "0.08828102052211761\n",
            "0.091204933822155\n",
            "0.13348662853240967\n",
            "0.07944799214601517\n",
            "0.0725766122341156\n",
            "0.07934805005788803\n",
            "0.05675704404711723\n",
            "0.06172942370176315\n",
            "0.06493012607097626\n",
            "0.08262544125318527\n",
            "0.1046738475561142\n",
            "0.06500926613807678\n",
            "0.054127149283885956\n",
            "0.061891935765743256\n",
            "0.06847257167100906\n",
            "0.0734655112028122\n",
            "0.08348012715578079\n",
            "0.043050747364759445\n",
            "0.0937836691737175\n",
            "0.06337091326713562\n",
            "0.08257155865430832\n",
            "0.07362335920333862\n",
            "0.03403664752840996\n",
            "0.06269130855798721\n",
            "0.05645273998379707\n",
            "0.07044453918933868\n",
            "0.0983566865324974\n",
            "0.04017189145088196\n",
            "0.06696406751871109\n",
            "0.08217887580394745\n",
            "0.05750761926174164\n",
            "0.04173435643315315\n",
            "0.07104863226413727\n",
            "0.05497294291853905\n",
            "0.05075749382376671\n",
            "0.08389812707901001\n",
            "0.08206845819950104\n",
            "0.08783524483442307\n",
            "0.09459348767995834\n",
            "0.10123511403799057\n",
            "0.06032925099134445\n",
            "0.07496585696935654\n",
            "0.050402943044900894\n",
            "0.05760757252573967\n",
            "0.07714034616947174\n",
            "0.05287250503897667\n",
            "0.09392809867858887\n",
            "0.08746832609176636\n",
            "0.0530591644346714\n",
            "0.09653553366661072\n",
            "0.04752075672149658\n",
            "0.05654650926589966\n",
            "0.018343228846788406\n",
            "0.08092992752790451\n",
            "0.06981092691421509\n",
            "0.07493794709444046\n",
            "0.05365755781531334\n",
            "0.07032616436481476\n",
            "0.09319319576025009\n",
            "0.063607357442379\n",
            "0.03723904862999916\n",
            "0.04502149671316147\n",
            "0.08904159814119339\n",
            "0.07549590617418289\n",
            "0.05986126512289047\n",
            "0.03852495178580284\n",
            "0.08006958663463593\n",
            "0.05413393676280975\n",
            "0.0607692115008831\n",
            "0.07101292163133621\n",
            "0.043459780514240265\n",
            "0.06805160641670227\n",
            "0.07561954110860825\n",
            "0.06359295547008514\n",
            "0.06018611416220665\n",
            "0.08529260754585266\n",
            "0.08263406902551651\n",
            "0.0607462003827095\n",
            "0.09868559241294861\n",
            "0.05299569293856621\n",
            "0.041020460426807404\n",
            "0.07444219291210175\n",
            "0.07950250059366226\n",
            "0.07361073046922684\n",
            "0.07657801359891891\n",
            "0.030959900468587875\n",
            "0.04162776470184326\n",
            "0.0449548177421093\n",
            "0.045523300766944885\n",
            "0.09934980422258377\n",
            "0.0577850416302681\n",
            "0.06340068578720093\n",
            "0.03768781200051308\n",
            "0.058854974806308746\n",
            "0.09376081079244614\n",
            "0.05851570516824722\n",
            "0.043826255947351456\n",
            "0.03736841678619385\n",
            "0.05574899911880493\n",
            "0.033571355044841766\n",
            "0.03497977927327156\n",
            "0.03098674863576889\n",
            "0.05795307084918022\n",
            "0.06472735106945038\n",
            "0.046455249190330505\n",
            "0.09372574836015701\n",
            "0.09808295965194702\n",
            "0.08370984345674515\n",
            "0.07359670102596283\n",
            "0.03304792568087578\n",
            "0.06559257209300995\n",
            "0.05672672763466835\n",
            "0.05130873620510101\n",
            "0.019690874963998795\n",
            "0.052488140761852264\n",
            "0.014819297939538956\n",
            "0.03403310477733612\n",
            "0.00833316519856453\n",
            "0.028377842158079147\n",
            "0.018065642565488815\n",
            "0.0036581384483724833\n",
            "0.02114785648882389\n",
            "0.04543847218155861\n",
            "2\n",
            "0.06964664906263351\n",
            "0.08874977380037308\n",
            "0.09337317198514938\n",
            "0.04728086665272713\n",
            "0.02076430432498455\n",
            "0.06200459972023964\n",
            "0.026034966111183167\n",
            "0.03805388882756233\n",
            "0.04527278244495392\n",
            "0.04108617454767227\n",
            "0.06348118931055069\n",
            "0.06318424642086029\n",
            "0.03437206521630287\n",
            "0.06886615604162216\n",
            "0.06382974237203598\n",
            "0.045627009123563766\n",
            "0.08064780384302139\n",
            "0.04294178634881973\n",
            "0.04523398354649544\n",
            "0.047645773738622665\n",
            "0.04534510523080826\n",
            "0.040436752140522\n",
            "0.03793928772211075\n",
            "0.04908382147550583\n",
            "0.05818575993180275\n",
            "0.03420724347233772\n",
            "0.03873926028609276\n",
            "0.040051598101854324\n",
            "0.047026850283145905\n",
            "0.0290109533816576\n",
            "0.03469964489340782\n",
            "0.03319547325372696\n",
            "0.062273550778627396\n",
            "0.04220648109912872\n",
            "0.061687782406806946\n",
            "0.048122480511665344\n",
            "0.017169127240777016\n",
            "0.04960106313228607\n",
            "0.03730480372905731\n",
            "0.05108821392059326\n",
            "0.08292488008737564\n",
            "0.026045553386211395\n",
            "0.036435388028621674\n",
            "0.04795612394809723\n",
            "0.023867158219218254\n",
            "0.02319081872701645\n",
            "0.0509176105260849\n",
            "0.049468401819467545\n",
            "0.02961619570851326\n",
            "0.054288264364004135\n",
            "0.05094417184591293\n",
            "0.07208971679210663\n",
            "0.07560321688652039\n",
            "0.06673255562782288\n",
            "0.03206232935190201\n",
            "0.04707447066903114\n",
            "0.03826821967959404\n",
            "0.056229118257761\n",
            "0.04344688355922699\n",
            "0.02808021567761898\n",
            "0.04415778070688248\n",
            "0.06252697855234146\n",
            "0.035821955651044846\n",
            "0.06375110894441605\n",
            "0.027149708941578865\n",
            "0.04692233353853226\n",
            "0.02246488630771637\n",
            "0.0664641335606575\n",
            "0.04444962367415428\n",
            "0.05193263664841652\n",
            "0.04225032031536102\n",
            "0.04901408404111862\n",
            "0.059940092265605927\n",
            "0.04336505010724068\n",
            "0.02477240562438965\n",
            "0.04066826030611992\n",
            "0.07865890860557556\n",
            "0.04699467122554779\n",
            "0.03297744691371918\n",
            "0.030510490760207176\n",
            "0.06365931034088135\n",
            "0.0427047535777092\n",
            "0.05373532697558403\n",
            "0.05301746353507042\n",
            "0.033997464925050735\n",
            "0.0469575971364975\n",
            "0.051205217838287354\n",
            "0.050787147134542465\n",
            "0.04297798499464989\n",
            "0.05647639185190201\n",
            "0.08518471568822861\n",
            "0.05049755796790123\n",
            "0.05920109525322914\n",
            "0.035959020256996155\n",
            "0.03473885357379913\n",
            "0.04164241626858711\n",
            "0.05693751201033592\n",
            "0.04303639382123947\n"
          ]
        },
        {
          "output_type": "error",
          "ename": "KeyboardInterrupt",
          "evalue": "",
          "traceback": [
            "\u001b[0;31m---------------------------------------------------------------------------\u001b[0m",
            "\u001b[0;31mKeyboardInterrupt\u001b[0m                         Traceback (most recent call last)",
            "\u001b[0;32m/tmp/ipython-input-3836955009.py\u001b[0m in \u001b[0;36m<cell line: 0>\u001b[0;34m()\u001b[0m\n\u001b[1;32m     10\u001b[0m         \u001b[0mx\u001b[0m \u001b[0;34m=\u001b[0m \u001b[0mX\u001b[0m\u001b[0;34m[\u001b[0m\u001b[0mix\u001b[0m\u001b[0;34m*\u001b[0m\u001b[0mbatch_size\u001b[0m\u001b[0;34m:\u001b[0m \u001b[0;34m(\u001b[0m\u001b[0mix\u001b[0m\u001b[0;34m+\u001b[0m\u001b[0;36m1\u001b[0m\u001b[0;34m)\u001b[0m\u001b[0;34m*\u001b[0m\u001b[0mbatch_size\u001b[0m\u001b[0;34m]\u001b[0m\u001b[0;34m\u001b[0m\u001b[0;34m\u001b[0m\u001b[0m\n\u001b[1;32m     11\u001b[0m         \u001b[0my\u001b[0m \u001b[0;34m=\u001b[0m \u001b[0mY\u001b[0m\u001b[0;34m[\u001b[0m\u001b[0mix\u001b[0m\u001b[0;34m*\u001b[0m\u001b[0mbatch_size\u001b[0m\u001b[0;34m:\u001b[0m \u001b[0;34m(\u001b[0m\u001b[0mix\u001b[0m\u001b[0;34m+\u001b[0m\u001b[0;36m1\u001b[0m\u001b[0;34m)\u001b[0m\u001b[0;34m*\u001b[0m\u001b[0mbatch_size\u001b[0m\u001b[0;34m]\u001b[0m\u001b[0;34m\u001b[0m\u001b[0;34m\u001b[0m\u001b[0m\n\u001b[0;32m---> 12\u001b[0;31m         \u001b[0my_pred\u001b[0m \u001b[0;34m=\u001b[0m \u001b[0mmodel\u001b[0m\u001b[0;34m(\u001b[0m\u001b[0mx\u001b[0m\u001b[0;34m)\u001b[0m\u001b[0;34m\u001b[0m\u001b[0;34m\u001b[0m\u001b[0m\n\u001b[0m\u001b[1;32m     13\u001b[0m         \u001b[0me\u001b[0m \u001b[0;34m=\u001b[0m \u001b[0mloss\u001b[0m\u001b[0;34m(\u001b[0m\u001b[0my_pred\u001b[0m\u001b[0;34m,\u001b[0m \u001b[0my\u001b[0m\u001b[0;34m)\u001b[0m\u001b[0;34m\u001b[0m\u001b[0;34m\u001b[0m\u001b[0m\n\u001b[1;32m     14\u001b[0m         \u001b[0moptimizer\u001b[0m\u001b[0;34m.\u001b[0m\u001b[0mzero_grad\u001b[0m\u001b[0;34m(\u001b[0m\u001b[0;34m)\u001b[0m\u001b[0;34m\u001b[0m\u001b[0;34m\u001b[0m\u001b[0m\n",
            "\u001b[0;32m/usr/local/lib/python3.12/dist-packages/torch/nn/modules/module.py\u001b[0m in \u001b[0;36m_wrapped_call_impl\u001b[0;34m(self, *args, **kwargs)\u001b[0m\n\u001b[1;32m   1771\u001b[0m             \u001b[0;32mreturn\u001b[0m \u001b[0mself\u001b[0m\u001b[0;34m.\u001b[0m\u001b[0m_compiled_call_impl\u001b[0m\u001b[0;34m(\u001b[0m\u001b[0;34m*\u001b[0m\u001b[0margs\u001b[0m\u001b[0;34m,\u001b[0m \u001b[0;34m**\u001b[0m\u001b[0mkwargs\u001b[0m\u001b[0;34m)\u001b[0m  \u001b[0;31m# type: ignore[misc]\u001b[0m\u001b[0;34m\u001b[0m\u001b[0;34m\u001b[0m\u001b[0m\n\u001b[1;32m   1772\u001b[0m         \u001b[0;32melse\u001b[0m\u001b[0;34m:\u001b[0m\u001b[0;34m\u001b[0m\u001b[0;34m\u001b[0m\u001b[0m\n\u001b[0;32m-> 1773\u001b[0;31m             \u001b[0;32mreturn\u001b[0m \u001b[0mself\u001b[0m\u001b[0;34m.\u001b[0m\u001b[0m_call_impl\u001b[0m\u001b[0;34m(\u001b[0m\u001b[0;34m*\u001b[0m\u001b[0margs\u001b[0m\u001b[0;34m,\u001b[0m \u001b[0;34m**\u001b[0m\u001b[0mkwargs\u001b[0m\u001b[0;34m)\u001b[0m\u001b[0;34m\u001b[0m\u001b[0;34m\u001b[0m\u001b[0m\n\u001b[0m\u001b[1;32m   1774\u001b[0m \u001b[0;34m\u001b[0m\u001b[0m\n\u001b[1;32m   1775\u001b[0m     \u001b[0;31m# torchrec tests the code consistency with the following code\u001b[0m\u001b[0;34m\u001b[0m\u001b[0;34m\u001b[0m\u001b[0m\n",
            "\u001b[0;32m/usr/local/lib/python3.12/dist-packages/torch/nn/modules/module.py\u001b[0m in \u001b[0;36m_call_impl\u001b[0;34m(self, *args, **kwargs)\u001b[0m\n\u001b[1;32m   1782\u001b[0m                 \u001b[0;32mor\u001b[0m \u001b[0m_global_backward_pre_hooks\u001b[0m \u001b[0;32mor\u001b[0m \u001b[0m_global_backward_hooks\u001b[0m\u001b[0;34m\u001b[0m\u001b[0;34m\u001b[0m\u001b[0m\n\u001b[1;32m   1783\u001b[0m                 or _global_forward_hooks or _global_forward_pre_hooks):\n\u001b[0;32m-> 1784\u001b[0;31m             \u001b[0;32mreturn\u001b[0m \u001b[0mforward_call\u001b[0m\u001b[0;34m(\u001b[0m\u001b[0;34m*\u001b[0m\u001b[0margs\u001b[0m\u001b[0;34m,\u001b[0m \u001b[0;34m**\u001b[0m\u001b[0mkwargs\u001b[0m\u001b[0;34m)\u001b[0m\u001b[0;34m\u001b[0m\u001b[0;34m\u001b[0m\u001b[0m\n\u001b[0m\u001b[1;32m   1785\u001b[0m \u001b[0;34m\u001b[0m\u001b[0m\n\u001b[1;32m   1786\u001b[0m         \u001b[0mresult\u001b[0m \u001b[0;34m=\u001b[0m \u001b[0;32mNone\u001b[0m\u001b[0;34m\u001b[0m\u001b[0;34m\u001b[0m\u001b[0m\n",
            "\u001b[0;32m/tmp/ipython-input-966327084.py\u001b[0m in \u001b[0;36mforward\u001b[0;34m(self, x)\u001b[0m\n\u001b[1;32m      9\u001b[0m \u001b[0;34m\u001b[0m\u001b[0m\n\u001b[1;32m     10\u001b[0m     \u001b[0;32mdef\u001b[0m \u001b[0mforward\u001b[0m\u001b[0;34m(\u001b[0m\u001b[0mself\u001b[0m\u001b[0;34m,\u001b[0m \u001b[0mx\u001b[0m\u001b[0;34m)\u001b[0m\u001b[0;34m:\u001b[0m\u001b[0;34m\u001b[0m\u001b[0;34m\u001b[0m\u001b[0m\n\u001b[0;32m---> 11\u001b[0;31m         \u001b[0mx\u001b[0m \u001b[0;34m=\u001b[0m \u001b[0mself\u001b[0m\u001b[0;34m.\u001b[0m\u001b[0mfc1\u001b[0m\u001b[0;34m(\u001b[0m\u001b[0mx\u001b[0m\u001b[0;34m)\u001b[0m\u001b[0;34m\u001b[0m\u001b[0;34m\u001b[0m\u001b[0m\n\u001b[0m\u001b[1;32m     12\u001b[0m         \u001b[0mx\u001b[0m \u001b[0;34m=\u001b[0m \u001b[0mself\u001b[0m\u001b[0;34m.\u001b[0m\u001b[0mrelu1\u001b[0m\u001b[0;34m(\u001b[0m\u001b[0mx\u001b[0m\u001b[0;34m)\u001b[0m\u001b[0;34m\u001b[0m\u001b[0;34m\u001b[0m\u001b[0m\n\u001b[1;32m     13\u001b[0m         \u001b[0mx\u001b[0m \u001b[0;34m=\u001b[0m \u001b[0mself\u001b[0m\u001b[0;34m.\u001b[0m\u001b[0mrelu2\u001b[0m\u001b[0;34m(\u001b[0m\u001b[0mself\u001b[0m\u001b[0;34m.\u001b[0m\u001b[0mfc2\u001b[0m\u001b[0;34m(\u001b[0m\u001b[0mx\u001b[0m\u001b[0;34m)\u001b[0m\u001b[0;34m)\u001b[0m\u001b[0;34m\u001b[0m\u001b[0;34m\u001b[0m\u001b[0m\n",
            "\u001b[0;32m/usr/local/lib/python3.12/dist-packages/torch/nn/modules/module.py\u001b[0m in \u001b[0;36m_wrapped_call_impl\u001b[0;34m(self, *args, **kwargs)\u001b[0m\n\u001b[1;32m   1771\u001b[0m             \u001b[0;32mreturn\u001b[0m \u001b[0mself\u001b[0m\u001b[0;34m.\u001b[0m\u001b[0m_compiled_call_impl\u001b[0m\u001b[0;34m(\u001b[0m\u001b[0;34m*\u001b[0m\u001b[0margs\u001b[0m\u001b[0;34m,\u001b[0m \u001b[0;34m**\u001b[0m\u001b[0mkwargs\u001b[0m\u001b[0;34m)\u001b[0m  \u001b[0;31m# type: ignore[misc]\u001b[0m\u001b[0;34m\u001b[0m\u001b[0;34m\u001b[0m\u001b[0m\n\u001b[1;32m   1772\u001b[0m         \u001b[0;32melse\u001b[0m\u001b[0;34m:\u001b[0m\u001b[0;34m\u001b[0m\u001b[0;34m\u001b[0m\u001b[0m\n\u001b[0;32m-> 1773\u001b[0;31m             \u001b[0;32mreturn\u001b[0m \u001b[0mself\u001b[0m\u001b[0;34m.\u001b[0m\u001b[0m_call_impl\u001b[0m\u001b[0;34m(\u001b[0m\u001b[0;34m*\u001b[0m\u001b[0margs\u001b[0m\u001b[0;34m,\u001b[0m \u001b[0;34m**\u001b[0m\u001b[0mkwargs\u001b[0m\u001b[0;34m)\u001b[0m\u001b[0;34m\u001b[0m\u001b[0;34m\u001b[0m\u001b[0m\n\u001b[0m\u001b[1;32m   1774\u001b[0m \u001b[0;34m\u001b[0m\u001b[0m\n\u001b[1;32m   1775\u001b[0m     \u001b[0;31m# torchrec tests the code consistency with the following code\u001b[0m\u001b[0;34m\u001b[0m\u001b[0;34m\u001b[0m\u001b[0m\n",
            "\u001b[0;32m/usr/local/lib/python3.12/dist-packages/torch/nn/modules/module.py\u001b[0m in \u001b[0;36m_call_impl\u001b[0;34m(self, *args, **kwargs)\u001b[0m\n\u001b[1;32m   1782\u001b[0m                 \u001b[0;32mor\u001b[0m \u001b[0m_global_backward_pre_hooks\u001b[0m \u001b[0;32mor\u001b[0m \u001b[0m_global_backward_hooks\u001b[0m\u001b[0;34m\u001b[0m\u001b[0;34m\u001b[0m\u001b[0m\n\u001b[1;32m   1783\u001b[0m                 or _global_forward_hooks or _global_forward_pre_hooks):\n\u001b[0;32m-> 1784\u001b[0;31m             \u001b[0;32mreturn\u001b[0m \u001b[0mforward_call\u001b[0m\u001b[0;34m(\u001b[0m\u001b[0;34m*\u001b[0m\u001b[0margs\u001b[0m\u001b[0;34m,\u001b[0m \u001b[0;34m**\u001b[0m\u001b[0mkwargs\u001b[0m\u001b[0;34m)\u001b[0m\u001b[0;34m\u001b[0m\u001b[0;34m\u001b[0m\u001b[0m\n\u001b[0m\u001b[1;32m   1785\u001b[0m \u001b[0;34m\u001b[0m\u001b[0m\n\u001b[1;32m   1786\u001b[0m         \u001b[0mresult\u001b[0m \u001b[0;34m=\u001b[0m \u001b[0;32mNone\u001b[0m\u001b[0;34m\u001b[0m\u001b[0;34m\u001b[0m\u001b[0m\n",
            "\u001b[0;32m/usr/local/lib/python3.12/dist-packages/torch/nn/modules/linear.py\u001b[0m in \u001b[0;36mforward\u001b[0;34m(self, input)\u001b[0m\n\u001b[1;32m    123\u001b[0m \u001b[0;34m\u001b[0m\u001b[0m\n\u001b[1;32m    124\u001b[0m     \u001b[0;32mdef\u001b[0m \u001b[0mforward\u001b[0m\u001b[0;34m(\u001b[0m\u001b[0mself\u001b[0m\u001b[0;34m,\u001b[0m \u001b[0minput\u001b[0m\u001b[0;34m:\u001b[0m \u001b[0mTensor\u001b[0m\u001b[0;34m)\u001b[0m \u001b[0;34m->\u001b[0m \u001b[0mTensor\u001b[0m\u001b[0;34m:\u001b[0m\u001b[0;34m\u001b[0m\u001b[0;34m\u001b[0m\u001b[0m\n\u001b[0;32m--> 125\u001b[0;31m         \u001b[0;32mreturn\u001b[0m \u001b[0mF\u001b[0m\u001b[0;34m.\u001b[0m\u001b[0mlinear\u001b[0m\u001b[0;34m(\u001b[0m\u001b[0minput\u001b[0m\u001b[0;34m,\u001b[0m \u001b[0mself\u001b[0m\u001b[0;34m.\u001b[0m\u001b[0mweight\u001b[0m\u001b[0;34m,\u001b[0m \u001b[0mself\u001b[0m\u001b[0;34m.\u001b[0m\u001b[0mbias\u001b[0m\u001b[0;34m)\u001b[0m\u001b[0;34m\u001b[0m\u001b[0;34m\u001b[0m\u001b[0m\n\u001b[0m\u001b[1;32m    126\u001b[0m \u001b[0;34m\u001b[0m\u001b[0m\n\u001b[1;32m    127\u001b[0m     \u001b[0;32mdef\u001b[0m \u001b[0mextra_repr\u001b[0m\u001b[0;34m(\u001b[0m\u001b[0mself\u001b[0m\u001b[0;34m)\u001b[0m \u001b[0;34m->\u001b[0m \u001b[0mstr\u001b[0m\u001b[0;34m:\u001b[0m\u001b[0;34m\u001b[0m\u001b[0;34m\u001b[0m\u001b[0m\n",
            "\u001b[0;31mKeyboardInterrupt\u001b[0m: "
          ]
        }
      ]
    },
    {
      "cell_type": "code",
      "source": [
        "plt.plot(lossi)\n",
        "plt.show()"
      ],
      "metadata": {
        "colab": {
          "base_uri": "https://localhost:8080/",
          "height": 430
        },
        "id": "bLjQA-qi6qKC",
        "outputId": "7cdeca47-f553-48a4-f6d8-6a20066f22f0"
      },
      "execution_count": 10,
      "outputs": [
        {
          "output_type": "display_data",
          "data": {
            "text/plain": [
              "<Figure size 640x480 with 1 Axes>"
            ],
            "image/png": "[encoded data removed]"
          },
          "metadata": {}
        }
      ]
    },
    {
      "cell_type": "code",
      "source": [
        "@torch.no_grad()\n",
        "def predict(x):\n",
        "    y_logit = model(x) # inference\n",
        "    y_prob = torch.softmax(y_logit, dim=1)\n",
        "    return y_prob.argmax(dim=1)"
      ],
      "metadata": {
        "id": "EJyl2gX__hz7"
      },
      "execution_count": 16,
      "outputs": []
    },
    {
      "cell_type": "code",
      "source": [
        "def predict(x):\n",
        "    with torch.no_grad():\n",
        "        y_logit = model(x) # inference\n",
        "    y_prob = torch.softmax(y_logit, dim=1)\n",
        "    return y_prob.argmax(dim=1)"
      ],
      "metadata": {
        "id": "64B2AOHfACrp"
      },
      "execution_count": null,
      "outputs": []
    },
    {
      "cell_type": "code",
      "source": [
        "predict(X[:10])"
      ],
      "metadata": {
        "colab": {
          "base_uri": "https://localhost:8080/"
        },
        "id": "KTdBACBD_o6R",
        "outputId": "c5b5669b-f53c-422b-8802-fde719a0f39f"
      },
      "execution_count": 17,
      "outputs": [
        {
          "output_type": "execute_result",
          "data": {
            "text/plain": [
              "tensor([5, 0, 4, 1, 9, 2, 1, 3, 1, 4])"
            ]
          },
          "metadata": {},
          "execution_count": 17
        }
      ]
    },
    {
      "cell_type": "code",
      "source": [
        "Y[:10]"
      ],
      "metadata": {
        "colab": {
          "base_uri": "https://localhost:8080/"
        },
        "id": "vopEFUMU_FDZ",
        "outputId": "51d9f8f4-34c6-470e-cb16-44ac9cf4d9ef"
      },
      "execution_count": 15,
      "outputs": [
        {
          "output_type": "execute_result",
          "data": {
            "text/plain": [
              "tensor([5, 0, 4, 1, 9, 2, 1, 3, 1, 4])"
            ]
          },
          "metadata": {},
          "execution_count": 15
        }
      ]
    },
    {
      "cell_type": "code",
      "source": [
        "model.train()"
      ],
      "metadata": {
        "colab": {
          "base_uri": "https://localhost:8080/"
        },
        "id": "w-ITOEl5_ZLn",
        "outputId": "e705a828-76a7-4f76-b76b-33dac043f3b3"
      },
      "execution_count": 18,
      "outputs": [
        {
          "output_type": "execute_result",
          "data": {
            "text/plain": [
              "DigitRecognizer(\n",
              "  (fc1): Linear(in_features=784, out_features=1024, bias=True)\n",
              "  (relu1): ReLU()\n",
              "  (fc2): Linear(in_features=1024, out_features=512, bias=True)\n",
              "  (relu2): ReLU()\n",
              "  (fc3): Linear(in_features=512, out_features=10, bias=True)\n",
              ")"
            ]
          },
          "metadata": {},
          "execution_count": 18
        }
      ]
    },
    {
      "cell_type": "code",
      "source": [
        "model.eval()"
      ],
      "metadata": {
        "colab": {
          "base_uri": "https://localhost:8080/"
        },
        "id": "cNcQjTavAoOi",
        "outputId": "28f50264-3160-47ee-8f31-39df15fecdff"
      },
      "execution_count": 19,
      "outputs": [
        {
          "output_type": "execute_result",
          "data": {
            "text/plain": [
              "DigitRecognizer(\n",
              "  (fc1): Linear(in_features=784, out_features=1024, bias=True)\n",
              "  (relu1): ReLU()\n",
              "  (fc2): Linear(in_features=1024, out_features=512, bias=True)\n",
              "  (relu2): ReLU()\n",
              "  (fc3): Linear(in_features=512, out_features=10, bias=True)\n",
              ")"
            ]
          },
          "metadata": {},
          "execution_count": 19
        }
      ]
    },
    {
      "cell_type": "code",
      "source": [
        "torch.save(model.state_dict(), 'digit_recognizer.pth')"
      ],
      "metadata": {
        "id": "8AXJ5e2ZAqmt"
      },
      "execution_count": 20,
      "outputs": []
    },
    {
      "cell_type": "code",
      "source": [
        "model2 = DigitRecognizer()\n",
        "model2.load_state_dict(torch.load('digit_recognizer.pth', weights_only=True))"
      ],
      "metadata": {
        "colab": {
          "base_uri": "https://localhost:8080/"
        },
        "id": "B0E_ysVGBw35",
        "outputId": "77de8890-c478-471c-abed-90b77a7e2938"
      },
      "execution_count": 22,
      "outputs": [
        {
          "output_type": "execute_result",
          "data": {
            "text/plain": [
              "<All keys matched successfully>"
            ]
          },
          "metadata": {},
          "execution_count": 22
        }
      ]
    },
    {
      "cell_type": "markdown",
      "source": [
        "## FashionMNIST is homework"
      ],
      "metadata": {
        "id": "kWqoxO6aC8Cq"
      }
    },
    {
      "cell_type": "code",
      "source": [],
      "metadata": {
        "id": "ECmYmy5nB9CD"
      },
      "execution_count": null,
      "outputs": []
    }
  ]
}