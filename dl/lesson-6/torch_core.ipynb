{
  "nbformat": 4,
  "nbformat_minor": 0,
  "metadata": {
    "colab": {
      "provenance": [],
      "gpuType": "T4"
    },
    "kernelspec": {
      "name": "python3",
      "display_name": "Python 3"
    },
    "language_info": {
      "name": "python"
    },
    "accelerator": "GPU"
  },
  "cells": [
    {
      "cell_type": "markdown",
      "source": [
        "# PyTorch Core"
      ],
      "metadata": {
        "id": "u3YddnrsP1qk"
      }
    },
    {
      "cell_type": "markdown",
      "source": [
        "```python\n",
        "pip install torch\n",
        "```"
      ],
      "metadata": {
        "id": "ax9uKdfTQEjj"
      }
    },
    {
      "cell_type": "code",
      "execution_count": 1,
      "metadata": {
        "id": "M0AHehZxO3h7"
      },
      "outputs": [],
      "source": [
        "import torch"
      ]
    },
    {
      "cell_type": "code",
      "source": [
        "torch.cuda.is_available()"
      ],
      "metadata": {
        "colab": {
          "base_uri": "https://localhost:8080/"
        },
        "id": "hbNxJMl2QIEn",
        "outputId": "fbb24a66-d17b-47ca-a5d5-416fb3704c12"
      },
      "execution_count": 2,
      "outputs": [
        {
          "output_type": "execute_result",
          "data": {
            "text/plain": [
              "False"
            ]
          },
          "metadata": {},
          "execution_count": 2
        }
      ]
    },
    {
      "cell_type": "code",
      "source": [
        "torch.backends.mps.is_available()"
      ],
      "metadata": {
        "colab": {
          "base_uri": "https://localhost:8080/"
        },
        "id": "Kj6ZCtIeQTtU",
        "outputId": "aa89e337-024b-41d9-d828-64fc5323bf47"
      },
      "execution_count": 5,
      "outputs": [
        {
          "output_type": "execute_result",
          "data": {
            "text/plain": [
              "False"
            ]
          },
          "metadata": {},
          "execution_count": 5
        }
      ]
    },
    {
      "cell_type": "code",
      "source": [
        "a = torch.tensor([1,2,3])\n",
        "a"
      ],
      "metadata": {
        "colab": {
          "base_uri": "https://localhost:8080/"
        },
        "id": "jA2ip3FtQdJU",
        "outputId": "54e399f6-e5c2-4451-8276-2c1a8b1f054a"
      },
      "execution_count": 6,
      "outputs": [
        {
          "output_type": "execute_result",
          "data": {
            "text/plain": [
              "tensor([1, 2, 3])"
            ]
          },
          "metadata": {},
          "execution_count": 6
        }
      ]
    },
    {
      "cell_type": "code",
      "source": [
        "a * 2"
      ],
      "metadata": {
        "colab": {
          "base_uri": "https://localhost:8080/"
        },
        "id": "W0D85xGzQzVh",
        "outputId": "1aca81a8-f748-48a1-c1d8-a8d75b0c3384"
      },
      "execution_count": 7,
      "outputs": [
        {
          "output_type": "execute_result",
          "data": {
            "text/plain": [
              "tensor([2, 4, 6])"
            ]
          },
          "metadata": {},
          "execution_count": 7
        }
      ]
    },
    {
      "cell_type": "code",
      "source": [
        "a.dtype"
      ],
      "metadata": {
        "colab": {
          "base_uri": "https://localhost:8080/"
        },
        "id": "EpEhl1eKRM9v",
        "outputId": "d5db8ae3-33e1-489d-a4f7-1de9f86a2000"
      },
      "execution_count": 13,
      "outputs": [
        {
          "output_type": "execute_result",
          "data": {
            "text/plain": [
              "torch.int64"
            ]
          },
          "metadata": {},
          "execution_count": 13
        }
      ]
    },
    {
      "cell_type": "code",
      "source": [
        "tensor1 = torch.Tensor([1, 2, 3])\n",
        "tensor1"
      ],
      "metadata": {
        "colab": {
          "base_uri": "https://localhost:8080/"
        },
        "id": "FAqNQCFSRVZr",
        "outputId": "5dcceb2c-dd4c-4cb6-f781-cd2216c6b485"
      },
      "execution_count": 14,
      "outputs": [
        {
          "output_type": "execute_result",
          "data": {
            "text/plain": [
              "tensor([1., 2., 3.])"
            ]
          },
          "metadata": {},
          "execution_count": 14
        }
      ]
    },
    {
      "cell_type": "code",
      "source": [
        "tensor2 = torch.tensor([1, 2, 3])\n",
        "tensor2"
      ],
      "metadata": {
        "colab": {
          "base_uri": "https://localhost:8080/"
        },
        "id": "oe_pFjrpRm1i",
        "outputId": "70b3a702-6c3c-4975-f3c5-7f42a2ece396"
      },
      "execution_count": 15,
      "outputs": [
        {
          "output_type": "execute_result",
          "data": {
            "text/plain": [
              "tensor([1, 2, 3])"
            ]
          },
          "metadata": {},
          "execution_count": 15
        }
      ]
    },
    {
      "cell_type": "code",
      "source": [
        "print(type(tensor1))"
      ],
      "metadata": {
        "colab": {
          "base_uri": "https://localhost:8080/"
        },
        "id": "4gGf5Br3Rpvd",
        "outputId": "71cdd8c3-b274-4e89-9436-fac9d66d3cd1"
      },
      "execution_count": 16,
      "outputs": [
        {
          "output_type": "stream",
          "name": "stdout",
          "text": [
            "<class 'torch.Tensor'>\n"
          ]
        }
      ]
    },
    {
      "cell_type": "code",
      "source": [
        "print(type(tensor2))"
      ],
      "metadata": {
        "colab": {
          "base_uri": "https://localhost:8080/"
        },
        "id": "hSxr5adgRtlR",
        "outputId": "869804ca-595b-494f-e4a0-7e472676a488"
      },
      "execution_count": 17,
      "outputs": [
        {
          "output_type": "stream",
          "name": "stdout",
          "text": [
            "<class 'torch.Tensor'>\n"
          ]
        }
      ]
    },
    {
      "cell_type": "code",
      "source": [
        "tensor3 = torch.tensor([1,2,3], dtype=torch.float32)\n",
        "tensor3"
      ],
      "metadata": {
        "colab": {
          "base_uri": "https://localhost:8080/"
        },
        "id": "ofDo3H03Rvji",
        "outputId": "29567c91-dd56-4739-eec4-2b22f88e3c53"
      },
      "execution_count": 18,
      "outputs": [
        {
          "output_type": "execute_result",
          "data": {
            "text/plain": [
              "tensor([1., 2., 3.])"
            ]
          },
          "metadata": {},
          "execution_count": 18
        }
      ]
    },
    {
      "cell_type": "code",
      "source": [
        "torch.zeros(2)"
      ],
      "metadata": {
        "colab": {
          "base_uri": "https://localhost:8080/"
        },
        "id": "yJR1_VwISRTS",
        "outputId": "aed23e8b-20f1-4648-ac64-f80896075100"
      },
      "execution_count": 20,
      "outputs": [
        {
          "output_type": "execute_result",
          "data": {
            "text/plain": [
              "tensor([0., 0.])"
            ]
          },
          "metadata": {},
          "execution_count": 20
        }
      ]
    },
    {
      "cell_type": "code",
      "source": [
        "torch.ones(3, 4)"
      ],
      "metadata": {
        "colab": {
          "base_uri": "https://localhost:8080/"
        },
        "id": "HeYw0C8LSjNR",
        "outputId": "b24f1008-11eb-49fb-d550-badcbababf92"
      },
      "execution_count": 35,
      "outputs": [
        {
          "output_type": "execute_result",
          "data": {
            "text/plain": [
              "tensor([[1., 1., 1., 1.],\n",
              "        [1., 1., 1., 1.],\n",
              "        [1., 1., 1., 1.]])"
            ]
          },
          "metadata": {},
          "execution_count": 35
        }
      ]
    },
    {
      "cell_type": "code",
      "source": [
        "torch.full((3, 4), 5)"
      ],
      "metadata": {
        "colab": {
          "base_uri": "https://localhost:8080/"
        },
        "id": "rcz5W0_9UcIr",
        "outputId": "10fc8526-077d-4df4-b165-1c1f317dce17"
      },
      "execution_count": 36,
      "outputs": [
        {
          "output_type": "execute_result",
          "data": {
            "text/plain": [
              "tensor([[5, 5, 5, 5],\n",
              "        [5, 5, 5, 5],\n",
              "        [5, 5, 5, 5]])"
            ]
          },
          "metadata": {},
          "execution_count": 36
        }
      ]
    },
    {
      "cell_type": "code",
      "source": [
        "tensor4 = torch.arange(1, 100, 2)\n",
        "print(tensor4)"
      ],
      "metadata": {
        "colab": {
          "base_uri": "https://localhost:8080/"
        },
        "id": "I4bPUOPuSoxw",
        "outputId": "80dc810d-bf24-4c12-b9f4-e2ad746aa6d2"
      },
      "execution_count": 23,
      "outputs": [
        {
          "output_type": "stream",
          "name": "stdout",
          "text": [
            "tensor([ 1,  3,  5,  7,  9, 11, 13, 15, 17, 19, 21, 23, 25, 27, 29, 31, 33, 35,\n",
            "        37, 39, 41, 43, 45, 47, 49, 51, 53, 55, 57, 59, 61, 63, 65, 67, 69, 71,\n",
            "        73, 75, 77, 79, 81, 83, 85, 87, 89, 91, 93, 95, 97, 99])\n"
          ]
        }
      ]
    },
    {
      "cell_type": "code",
      "source": [
        "tensor5 = torch.linspace(1, 100, 100)\n",
        "print(tensor5)"
      ],
      "metadata": {
        "colab": {
          "base_uri": "https://localhost:8080/"
        },
        "id": "Qd25nTPgTB4o",
        "outputId": "1616abeb-021e-4740-9c63-927f09bd8edf"
      },
      "execution_count": 24,
      "outputs": [
        {
          "output_type": "stream",
          "name": "stdout",
          "text": [
            "tensor([  1.,   2.,   3.,   4.,   5.,   6.,   7.,   8.,   9.,  10.,  11.,  12.,\n",
            "         13.,  14.,  15.,  16.,  17.,  18.,  19.,  20.,  21.,  22.,  23.,  24.,\n",
            "         25.,  26.,  27.,  28.,  29.,  30.,  31.,  32.,  33.,  34.,  35.,  36.,\n",
            "         37.,  38.,  39.,  40.,  41.,  42.,  43.,  44.,  45.,  46.,  47.,  48.,\n",
            "         49.,  50.,  51.,  52.,  53.,  54.,  55.,  56.,  57.,  58.,  59.,  60.,\n",
            "         61.,  62.,  63.,  64.,  65.,  66.,  67.,  68.,  69.,  70.,  71.,  72.,\n",
            "         73.,  74.,  75.,  76.,  77.,  78.,  79.,  80.,  81.,  82.,  83.,  84.,\n",
            "         85.,  86.,  87.,  88.,  89.,  90.,  91.,  92.,  93.,  94.,  95.,  96.,\n",
            "         97.,  98.,  99., 100.])\n"
          ]
        }
      ]
    },
    {
      "cell_type": "code",
      "source": [
        "torch_rand = torch.rand(size=(2, 3))\n",
        "print(torch_rand)"
      ],
      "metadata": {
        "colab": {
          "base_uri": "https://localhost:8080/"
        },
        "id": "hu5HgV4LTLmm",
        "outputId": "1e451ca0-0c3a-4770-9d21-2460f8fbf810"
      },
      "execution_count": 25,
      "outputs": [
        {
          "output_type": "stream",
          "name": "stdout",
          "text": [
            "tensor([[0.0099, 0.9553, 0.4194],\n",
            "        [0.8002, 0.9739, 0.6801]])\n"
          ]
        }
      ]
    },
    {
      "cell_type": "code",
      "source": [
        "torch_randn = torch.randn(size=(100000,))\n",
        "print(torch_randn)"
      ],
      "metadata": {
        "colab": {
          "base_uri": "https://localhost:8080/"
        },
        "id": "ZVq7zT72Tln2",
        "outputId": "44893060-6841-4972-968b-7f888ca81f2d"
      },
      "execution_count": 33,
      "outputs": [
        {
          "output_type": "stream",
          "name": "stdout",
          "text": [
            "tensor([0.1364, 0.7950, 0.1311,  ..., 0.6653, 0.6283, 1.7569])\n"
          ]
        }
      ]
    },
    {
      "cell_type": "code",
      "source": [
        "import numpy as np\n",
        "\n",
        "np.eye(5)"
      ],
      "metadata": {
        "colab": {
          "base_uri": "https://localhost:8080/"
        },
        "id": "60s2OstxUHUR",
        "outputId": "35a08ec1-4401-4a68-873d-e50a449247f2"
      },
      "execution_count": 37,
      "outputs": [
        {
          "output_type": "execute_result",
          "data": {
            "text/plain": [
              "array([[1., 0., 0., 0., 0.],\n",
              "       [0., 1., 0., 0., 0.],\n",
              "       [0., 0., 1., 0., 0.],\n",
              "       [0., 0., 0., 1., 0.],\n",
              "       [0., 0., 0., 0., 1.]])"
            ]
          },
          "metadata": {},
          "execution_count": 37
        }
      ]
    },
    {
      "cell_type": "code",
      "source": [
        "torch.eye(5)"
      ],
      "metadata": {
        "colab": {
          "base_uri": "https://localhost:8080/"
        },
        "id": "K9IP0neHUsLV",
        "outputId": "01639409-f23f-48be-fadf-ea2bde8498f4"
      },
      "execution_count": 38,
      "outputs": [
        {
          "output_type": "execute_result",
          "data": {
            "text/plain": [
              "tensor([[1., 0., 0., 0., 0.],\n",
              "        [0., 1., 0., 0., 0.],\n",
              "        [0., 0., 1., 0., 0.],\n",
              "        [0., 0., 0., 1., 0.],\n",
              "        [0., 0., 0., 0., 1.]])"
            ]
          },
          "metadata": {},
          "execution_count": 38
        }
      ]
    },
    {
      "cell_type": "code",
      "source": [
        "t1 = torch.tensor([[1, 2, 3, 4]])\n",
        "print(t1.shape)\n",
        "print(t1)"
      ],
      "metadata": {
        "colab": {
          "base_uri": "https://localhost:8080/"
        },
        "id": "JuAVDs5bUuv1",
        "outputId": "dc241820-b8d0-4a07-fca3-7c380bc626dd"
      },
      "execution_count": 41,
      "outputs": [
        {
          "output_type": "stream",
          "name": "stdout",
          "text": [
            "torch.Size([1, 4])\n",
            "tensor([[1, 2, 3, 4]])\n"
          ]
        }
      ]
    },
    {
      "cell_type": "code",
      "source": [
        "t2 = t1.squeeze()"
      ],
      "metadata": {
        "id": "4E8_gMgbU8sC"
      },
      "execution_count": 42,
      "outputs": []
    },
    {
      "cell_type": "code",
      "source": [
        "print(t2)"
      ],
      "metadata": {
        "colab": {
          "base_uri": "https://localhost:8080/"
        },
        "id": "TqRKYwZSVBIJ",
        "outputId": "276c4373-5ac3-454b-cc04-1065aebe8088"
      },
      "execution_count": 43,
      "outputs": [
        {
          "output_type": "stream",
          "name": "stdout",
          "text": [
            "tensor([1, 2, 3, 4])\n"
          ]
        }
      ]
    },
    {
      "cell_type": "code",
      "source": [
        "t3 = t2.unsqueeze(dim=0)\n",
        "print(t3)"
      ],
      "metadata": {
        "colab": {
          "base_uri": "https://localhost:8080/"
        },
        "id": "msAjGuKpVILK",
        "outputId": "42d59f2f-ae48-4bda-f4b5-6eaec9faaaa2"
      },
      "execution_count": 45,
      "outputs": [
        {
          "output_type": "stream",
          "name": "stdout",
          "text": [
            "tensor([[1, 2, 3, 4]])\n"
          ]
        }
      ]
    },
    {
      "cell_type": "code",
      "source": [
        "t4 = torch.randn(1, 3, 1, 4)\n",
        "t4"
      ],
      "metadata": {
        "colab": {
          "base_uri": "https://localhost:8080/"
        },
        "id": "vQtbNKltVL6b",
        "outputId": "98aebc61-72d3-4e93-935f-532ea73637bf"
      },
      "execution_count": 46,
      "outputs": [
        {
          "output_type": "execute_result",
          "data": {
            "text/plain": [
              "tensor([[[[ 0.6221, -0.9107, -0.9944,  1.4920]],\n",
              "\n",
              "         [[ 1.2432, -0.0909,  0.0149, -1.0594]],\n",
              "\n",
              "         [[ 0.7908, -0.5481,  0.0776,  0.7206]]]])"
            ]
          },
          "metadata": {},
          "execution_count": 46
        }
      ]
    },
    {
      "cell_type": "code",
      "source": [
        "t5 = t4.squeeze(dim=2)"
      ],
      "metadata": {
        "id": "ehHztGQdVWaC"
      },
      "execution_count": 47,
      "outputs": []
    },
    {
      "cell_type": "code",
      "source": [
        "t5.shape"
      ],
      "metadata": {
        "colab": {
          "base_uri": "https://localhost:8080/"
        },
        "id": "BQve9RNAVfn0",
        "outputId": "5afacc3e-1051-409e-a555-e203d2655e21"
      },
      "execution_count": 49,
      "outputs": [
        {
          "output_type": "execute_result",
          "data": {
            "text/plain": [
              "torch.Size([1, 3, 4])"
            ]
          },
          "metadata": {},
          "execution_count": 49
        }
      ]
    },
    {
      "cell_type": "code",
      "source": [
        "t6 = torch.arange(1, 101, 1)\n",
        "print(t6.shape)"
      ],
      "metadata": {
        "colab": {
          "base_uri": "https://localhost:8080/"
        },
        "id": "A4B1PJ0yVghV",
        "outputId": "e5918626-2106-4688-c42a-6b8107bf72a4"
      },
      "execution_count": 52,
      "outputs": [
        {
          "output_type": "stream",
          "name": "stdout",
          "text": [
            "torch.Size([100])\n"
          ]
        }
      ]
    },
    {
      "cell_type": "code",
      "source": [
        "t6.reshape(10, 10)"
      ],
      "metadata": {
        "colab": {
          "base_uri": "https://localhost:8080/"
        },
        "id": "qSSORrK8VztB",
        "outputId": "8cb77189-32eb-4841-ae23-a4f6334681f1"
      },
      "execution_count": 56,
      "outputs": [
        {
          "output_type": "execute_result",
          "data": {
            "text/plain": [
              "tensor([[  1,   2,   3,   4,   5,   6,   7,   8,   9,  10],\n",
              "        [ 11,  12,  13,  14,  15,  16,  17,  18,  19,  20],\n",
              "        [ 21,  22,  23,  24,  25,  26,  27,  28,  29,  30],\n",
              "        [ 31,  32,  33,  34,  35,  36,  37,  38,  39,  40],\n",
              "        [ 41,  42,  43,  44,  45,  46,  47,  48,  49,  50],\n",
              "        [ 51,  52,  53,  54,  55,  56,  57,  58,  59,  60],\n",
              "        [ 61,  62,  63,  64,  65,  66,  67,  68,  69,  70],\n",
              "        [ 71,  72,  73,  74,  75,  76,  77,  78,  79,  80],\n",
              "        [ 81,  82,  83,  84,  85,  86,  87,  88,  89,  90],\n",
              "        [ 91,  92,  93,  94,  95,  96,  97,  98,  99, 100]])"
            ]
          },
          "metadata": {},
          "execution_count": 56
        }
      ]
    },
    {
      "cell_type": "code",
      "source": [
        "t7 = t6.view(10, 10) # almost no cost operation"
      ],
      "metadata": {
        "id": "CigTezXWV-yB"
      },
      "execution_count": 59,
      "outputs": []
    },
    {
      "cell_type": "code",
      "source": [
        "t7"
      ],
      "metadata": {
        "colab": {
          "base_uri": "https://localhost:8080/"
        },
        "id": "CMSKZ9RAWRwA",
        "outputId": "1e462cae-f70e-4cdb-a621-8a30ba028298"
      },
      "execution_count": 60,
      "outputs": [
        {
          "output_type": "execute_result",
          "data": {
            "text/plain": [
              "tensor([[  1,   2,   3,   4,   5,   6,   7,   8,   9,  10],\n",
              "        [ 11,  12,  13,  14,  15,  16,  17,  18,  19,  20],\n",
              "        [ 21,  22,  23,  24,  25,  26,  27,  28,  29,  30],\n",
              "        [ 31,  32,  33,  34,  35,  36,  37,  38,  39,  40],\n",
              "        [ 41,  42,  43,  44,  45,  46,  47,  48,  49,  50],\n",
              "        [ 51,  52,  53,  54,  55,  56,  57,  58,  59,  60],\n",
              "        [ 61,  62,  63,  64,  65,  66,  67,  68,  69,  70],\n",
              "        [ 71,  72,  73,  74,  75,  76,  77,  78,  79,  80],\n",
              "        [ 81,  82,  83,  84,  85,  86,  87,  88,  89,  90],\n",
              "        [ 91,  92,  93,  94,  95,  96,  97,  98,  99, 100]])"
            ]
          },
          "metadata": {},
          "execution_count": 60
        }
      ]
    },
    {
      "cell_type": "code",
      "source": [
        "t7.contiguous()"
      ],
      "metadata": {
        "colab": {
          "base_uri": "https://localhost:8080/"
        },
        "id": "ynCkUIStWIne",
        "outputId": "24a8fce3-cbee-47bb-a96b-216d26683626"
      },
      "execution_count": 61,
      "outputs": [
        {
          "output_type": "execute_result",
          "data": {
            "text/plain": [
              "tensor([[  1,   2,   3,   4,   5,   6,   7,   8,   9,  10],\n",
              "        [ 11,  12,  13,  14,  15,  16,  17,  18,  19,  20],\n",
              "        [ 21,  22,  23,  24,  25,  26,  27,  28,  29,  30],\n",
              "        [ 31,  32,  33,  34,  35,  36,  37,  38,  39,  40],\n",
              "        [ 41,  42,  43,  44,  45,  46,  47,  48,  49,  50],\n",
              "        [ 51,  52,  53,  54,  55,  56,  57,  58,  59,  60],\n",
              "        [ 61,  62,  63,  64,  65,  66,  67,  68,  69,  70],\n",
              "        [ 71,  72,  73,  74,  75,  76,  77,  78,  79,  80],\n",
              "        [ 81,  82,  83,  84,  85,  86,  87,  88,  89,  90],\n",
              "        [ 91,  92,  93,  94,  95,  96,  97,  98,  99, 100]])"
            ]
          },
          "metadata": {},
          "execution_count": 61
        }
      ]
    },
    {
      "cell_type": "markdown",
      "source": [
        "# Automatic gradient calculation"
      ],
      "metadata": {
        "id": "UwBnMIcqWw37"
      }
    },
    {
      "cell_type": "code",
      "source": [
        "t1 = torch.tensor([1, 2, 3], dtype=torch.float32, requires_grad=True)\n",
        "t2 = t1 * 2\n",
        "t3 = torch.tensor([4, 5, 6])\n",
        "t4 = t2 + t3\n",
        "t5 = t4.sum()"
      ],
      "metadata": {
        "id": "wVxiOUbTWNt-"
      },
      "execution_count": 96,
      "outputs": []
    },
    {
      "cell_type": "code",
      "source": [
        "t5.backward()"
      ],
      "metadata": {
        "id": "o85bIJ1dW73-"
      },
      "execution_count": 97,
      "outputs": []
    },
    {
      "cell_type": "code",
      "source": [
        "t1.grad"
      ],
      "metadata": {
        "colab": {
          "base_uri": "https://localhost:8080/"
        },
        "id": "r4yM8OEyW86l",
        "outputId": "5c66354f-3068-4eaf-9af2-c2149eb83b04"
      },
      "execution_count": 98,
      "outputs": [
        {
          "output_type": "execute_result",
          "data": {
            "text/plain": [
              "tensor([2., 2., 2.])"
            ]
          },
          "metadata": {},
          "execution_count": 98
        }
      ]
    },
    {
      "cell_type": "code",
      "source": [
        "t3.grad"
      ],
      "metadata": {
        "id": "4bqoKv-SXZhF"
      },
      "execution_count": 99,
      "outputs": []
    },
    {
      "cell_type": "code",
      "source": [
        "t1 = torch.randn(3, 4)"
      ],
      "metadata": {
        "id": "r3uoONaLYrIM"
      },
      "execution_count": 101,
      "outputs": []
    },
    {
      "cell_type": "code",
      "source": [
        "t1"
      ],
      "metadata": {
        "colab": {
          "base_uri": "https://localhost:8080/"
        },
        "id": "oZcNOgKPZR5t",
        "outputId": "4d191adf-78ee-43fc-94de-23c623da4c48"
      },
      "execution_count": 102,
      "outputs": [
        {
          "output_type": "execute_result",
          "data": {
            "text/plain": [
              "tensor([[ 0.9773,  0.0871, -0.3467,  1.5648],\n",
              "        [ 1.8180,  0.9716, -0.6468, -0.6683],\n",
              "        [ 2.0050,  0.0219,  1.9064,  0.1327]])"
            ]
          },
          "metadata": {},
          "execution_count": 102
        }
      ]
    },
    {
      "cell_type": "code",
      "source": [
        "t1[:, 1:3]"
      ],
      "metadata": {
        "colab": {
          "base_uri": "https://localhost:8080/"
        },
        "id": "Btc7l5OCZXjs",
        "outputId": "59db1db1-d6bb-478c-8baa-b06068eb7fb4"
      },
      "execution_count": 105,
      "outputs": [
        {
          "output_type": "execute_result",
          "data": {
            "text/plain": [
              "tensor([[ 0.0871, -0.3467],\n",
              "        [ 0.9716, -0.6468],\n",
              "        [ 0.0219,  1.9064]])"
            ]
          },
          "metadata": {},
          "execution_count": 105
        }
      ]
    },
    {
      "cell_type": "markdown",
      "source": [
        "# Moving tensors to different device"
      ],
      "metadata": {
        "id": "N3ZBjiEqZomH"
      }
    },
    {
      "cell_type": "code",
      "source": [
        "import torch"
      ],
      "metadata": {
        "id": "erNxL9iYaWi1"
      },
      "execution_count": 1,
      "outputs": []
    },
    {
      "cell_type": "code",
      "source": [
        "t1 = torch.tensor([1, 2, 3])"
      ],
      "metadata": {
        "id": "12R51oZMZfLk"
      },
      "execution_count": 2,
      "outputs": []
    },
    {
      "cell_type": "code",
      "source": [
        "torch.cuda.is_available()"
      ],
      "metadata": {
        "colab": {
          "base_uri": "https://localhost:8080/"
        },
        "id": "jrpHh4-QZz7s",
        "outputId": "fdfc7e2b-a832-4562-cf85-1baabd7ce889"
      },
      "execution_count": 3,
      "outputs": [
        {
          "output_type": "execute_result",
          "data": {
            "text/plain": [
              "True"
            ]
          },
          "metadata": {},
          "execution_count": 3
        }
      ]
    },
    {
      "cell_type": "code",
      "source": [
        "t1.dtype"
      ],
      "metadata": {
        "colab": {
          "base_uri": "https://localhost:8080/"
        },
        "id": "Z4iGeS2mZ-bv",
        "outputId": "efc48131-ef3f-472b-8fe8-5fa4d6594d00"
      },
      "execution_count": 4,
      "outputs": [
        {
          "output_type": "execute_result",
          "data": {
            "text/plain": [
              "torch.int64"
            ]
          },
          "metadata": {},
          "execution_count": 4
        }
      ]
    },
    {
      "cell_type": "code",
      "source": [
        "t1.to(torch.float32).dtype"
      ],
      "metadata": {
        "colab": {
          "base_uri": "https://localhost:8080/"
        },
        "id": "uMtXljwpaBkN",
        "outputId": "ee767ecf-df1f-4b38-a9a3-577fd7e16a88"
      },
      "execution_count": 5,
      "outputs": [
        {
          "output_type": "execute_result",
          "data": {
            "text/plain": [
              "torch.float32"
            ]
          },
          "metadata": {},
          "execution_count": 5
        }
      ]
    },
    {
      "cell_type": "code",
      "source": [
        "t2 = t1.to('cuda')"
      ],
      "metadata": {
        "id": "aNrh6DGYaEpv"
      },
      "execution_count": 8,
      "outputs": []
    },
    {
      "cell_type": "code",
      "source": [
        "t1.device"
      ],
      "metadata": {
        "colab": {
          "base_uri": "https://localhost:8080/"
        },
        "id": "K0RR-o-EaPdx",
        "outputId": "c4df3844-8572-4f65-fdf5-4015b4c0a5e7"
      },
      "execution_count": 7,
      "outputs": [
        {
          "output_type": "execute_result",
          "data": {
            "text/plain": [
              "device(type='cpu')"
            ]
          },
          "metadata": {},
          "execution_count": 7
        }
      ]
    },
    {
      "cell_type": "code",
      "source": [
        "t2.device"
      ],
      "metadata": {
        "colab": {
          "base_uri": "https://localhost:8080/"
        },
        "id": "KBOCsNdTavxS",
        "outputId": "5253714b-e42c-4eae-f369-4b0f6b083c8f"
      },
      "execution_count": 9,
      "outputs": [
        {
          "output_type": "execute_result",
          "data": {
            "text/plain": [
              "device(type='cuda', index=0)"
            ]
          },
          "metadata": {},
          "execution_count": 9
        }
      ]
    },
    {
      "cell_type": "code",
      "source": [
        "t1"
      ],
      "metadata": {
        "colab": {
          "base_uri": "https://localhost:8080/"
        },
        "id": "MBOFPuWLayzV",
        "outputId": "4174e444-28ee-4fe4-c485-19bbc2a322d0"
      },
      "execution_count": 10,
      "outputs": [
        {
          "output_type": "execute_result",
          "data": {
            "text/plain": [
              "tensor([1, 2, 3])"
            ]
          },
          "metadata": {},
          "execution_count": 10
        }
      ]
    },
    {
      "cell_type": "code",
      "source": [
        "t2"
      ],
      "metadata": {
        "colab": {
          "base_uri": "https://localhost:8080/"
        },
        "id": "vf2XUqa4a2DJ",
        "outputId": "68337674-b183-4069-be70-b5517933d6a5"
      },
      "execution_count": 11,
      "outputs": [
        {
          "output_type": "execute_result",
          "data": {
            "text/plain": [
              "tensor([1, 2, 3], device='cuda:0')"
            ]
          },
          "metadata": {},
          "execution_count": 11
        }
      ]
    },
    {
      "cell_type": "code",
      "source": [
        "t1 + t2"
      ],
      "metadata": {
        "colab": {
          "base_uri": "https://localhost:8080/",
          "height": 141
        },
        "id": "1bkCm-RRa2y5",
        "outputId": "bf6dee51-8f31-495d-9a2b-84c541a1fc5d"
      },
      "execution_count": 12,
      "outputs": [
        {
          "output_type": "error",
          "ename": "RuntimeError",
          "evalue": "Expected all tensors to be on the same device, but found at least two devices, cuda:0 and cpu!",
          "traceback": [
            "\u001b[0;31m---------------------------------------------------------------------------\u001b[0m",
            "\u001b[0;31mRuntimeError\u001b[0m                              Traceback (most recent call last)",
            "\u001b[0;32m/tmp/ipython-input-2420055791.py\u001b[0m in \u001b[0;36m<cell line: 0>\u001b[0;34m()\u001b[0m\n\u001b[0;32m----> 1\u001b[0;31m \u001b[0mt1\u001b[0m \u001b[0;34m+\u001b[0m \u001b[0mt2\u001b[0m\u001b[0;34m\u001b[0m\u001b[0;34m\u001b[0m\u001b[0m\n\u001b[0m",
            "\u001b[0;31mRuntimeError\u001b[0m: Expected all tensors to be on the same device, but found at least two devices, cuda:0 and cpu!"
          ]
        }
      ]
    },
    {
      "cell_type": "code",
      "source": [
        "t2.to('cpu')"
      ],
      "metadata": {
        "colab": {
          "base_uri": "https://localhost:8080/"
        },
        "id": "xR_UMwnJa4AY",
        "outputId": "54eef4e3-f1d0-406f-aa72-4997320fbe1a"
      },
      "execution_count": 13,
      "outputs": [
        {
          "output_type": "execute_result",
          "data": {
            "text/plain": [
              "tensor([1, 2, 3])"
            ]
          },
          "metadata": {},
          "execution_count": 13
        }
      ]
    },
    {
      "cell_type": "code",
      "source": [
        "t1.cuda()"
      ],
      "metadata": {
        "colab": {
          "base_uri": "https://localhost:8080/"
        },
        "id": "eit2LFi_bAbv",
        "outputId": "3a57f561-764c-4c0e-d9d4-2bd2bf069df4"
      },
      "execution_count": 14,
      "outputs": [
        {
          "output_type": "execute_result",
          "data": {
            "text/plain": [
              "tensor([1, 2, 3], device='cuda:0')"
            ]
          },
          "metadata": {},
          "execution_count": 14
        }
      ]
    },
    {
      "cell_type": "code",
      "source": [
        "t2.cpu()"
      ],
      "metadata": {
        "colab": {
          "base_uri": "https://localhost:8080/"
        },
        "id": "0FHK4eaLbEN4",
        "outputId": "e246418c-3a4b-436b-9967-12f140757b0b"
      },
      "execution_count": 15,
      "outputs": [
        {
          "output_type": "execute_result",
          "data": {
            "text/plain": [
              "tensor([1, 2, 3])"
            ]
          },
          "metadata": {},
          "execution_count": 15
        }
      ]
    },
    {
      "cell_type": "code",
      "source": [
        "t1 = torch.tensor([1, 2, 3])\n",
        "\n",
        "device = 'cuda' if torch.cuda.is_available() else 'cpu'"
      ],
      "metadata": {
        "id": "S1h8i-KbbGk1"
      },
      "execution_count": 2,
      "outputs": []
    },
    {
      "cell_type": "code",
      "source": [
        "t2 = t1.to(device)\n",
        "print(t2)"
      ],
      "metadata": {
        "colab": {
          "base_uri": "https://localhost:8080/"
        },
        "id": "LkH3s8qFbeg5",
        "outputId": "0955e909-7e28-497c-af23-8dd89a7b0c30"
      },
      "execution_count": 3,
      "outputs": [
        {
          "output_type": "stream",
          "name": "stdout",
          "text": [
            "tensor([1, 2, 3], device='cuda:0')\n"
          ]
        }
      ]
    },
    {
      "cell_type": "code",
      "source": [
        "t1.to('cuda:0')"
      ],
      "metadata": {
        "colab": {
          "base_uri": "https://localhost:8080/"
        },
        "id": "CuaV8Uy2bjvc",
        "outputId": "02c6151c-3ed9-4a1c-c7d3-6a2510a74d6f"
      },
      "execution_count": 4,
      "outputs": [
        {
          "output_type": "execute_result",
          "data": {
            "text/plain": [
              "tensor([1, 2, 3], device='cuda:0')"
            ]
          },
          "metadata": {},
          "execution_count": 4
        }
      ]
    },
    {
      "cell_type": "code",
      "source": [
        "t1.to('cuda:1')"
      ],
      "metadata": {
        "colab": {
          "base_uri": "https://localhost:8080/",
          "height": 193
        },
        "id": "zuKliDL2b6BR",
        "outputId": "93f3a1af-cd94-46f8-fd20-8cd6e0f6704c"
      },
      "execution_count": 5,
      "outputs": [
        {
          "output_type": "error",
          "ename": "AcceleratorError",
          "evalue": "CUDA error: invalid device ordinal\nCUDA kernel errors might be asynchronously reported at some other API call, so the stacktrace below might be incorrect.\nFor debugging consider passing CUDA_LAUNCH_BLOCKING=1\nCompile with `TORCH_USE_CUDA_DSA` to enable device-side assertions.\n",
          "traceback": [
            "\u001b[0;31m---------------------------------------------------------------------------\u001b[0m",
            "\u001b[0;31mAcceleratorError\u001b[0m                          Traceback (most recent call last)",
            "\u001b[0;32m/tmp/ipython-input-642730839.py\u001b[0m in \u001b[0;36m<cell line: 0>\u001b[0;34m()\u001b[0m\n\u001b[0;32m----> 1\u001b[0;31m \u001b[0mt1\u001b[0m\u001b[0;34m.\u001b[0m\u001b[0mto\u001b[0m\u001b[0;34m(\u001b[0m\u001b[0;34m'cuda:1'\u001b[0m\u001b[0;34m)\u001b[0m\u001b[0;34m\u001b[0m\u001b[0;34m\u001b[0m\u001b[0m\n\u001b[0m",
            "\u001b[0;31mAcceleratorError\u001b[0m: CUDA error: invalid device ordinal\nCUDA kernel errors might be asynchronously reported at some other API call, so the stacktrace below might be incorrect.\nFor debugging consider passing CUDA_LAUNCH_BLOCKING=1\nCompile with `TORCH_USE_CUDA_DSA` to enable device-side assertions.\n"
          ]
        }
      ]
    },
    {
      "cell_type": "markdown",
      "source": [
        "# Let's build regression neural network"
      ],
      "metadata": {
        "id": "bi8OzRkBdPGG"
      }
    },
    {
      "cell_type": "code",
      "source": [
        "import pandas as pd\n",
        "from sklearn.preprocessing import StandardScaler\n",
        "\n",
        "sclr = StandardScaler()"
      ],
      "metadata": {
        "id": "Mf1GUIQnb9d8"
      },
      "execution_count": 91,
      "outputs": []
    },
    {
      "cell_type": "code",
      "source": [
        "df = pd.read_csv('housing.csv')"
      ],
      "metadata": {
        "id": "GAycYOjbdh11"
      },
      "execution_count": 7,
      "outputs": []
    },
    {
      "cell_type": "code",
      "source": [
        "X = df[['area', 'bedrooms', 'bathrooms']].values\n",
        "y = df['price'].values"
      ],
      "metadata": {
        "id": "b1BlKvJodnQK"
      },
      "execution_count": 92,
      "outputs": []
    },
    {
      "cell_type": "code",
      "source": [
        "scale_y = 10000000"
      ],
      "metadata": {
        "id": "h9RioyKlsu8E"
      },
      "execution_count": 264,
      "outputs": []
    },
    {
      "cell_type": "code",
      "source": [
        "X = sclr.fit_transform(X)\n",
        "y = y / scale_y\n",
        "\n",
        "X = torch.tensor(X, dtype=torch.float32)\n",
        "y = torch.tensor(y, dtype=torch.float32)"
      ],
      "metadata": {
        "colab": {
          "base_uri": "https://localhost:8080/"
        },
        "id": "aou1DFWafY-v",
        "outputId": "b29bff2b-9d94-4356-80f1-4526fbc1ae81"
      },
      "execution_count": 265,
      "outputs": [
        {
          "output_type": "stream",
          "name": "stderr",
          "text": [
            "/tmp/ipython-input-4153531698.py:5: UserWarning: To copy construct from a tensor, it is recommended to use sourceTensor.detach().clone() or sourceTensor.detach().clone().requires_grad_(True), rather than torch.tensor(sourceTensor).\n",
            "  y = torch.tensor(y, dtype=torch.float32)\n"
          ]
        }
      ]
    },
    {
      "cell_type": "code",
      "source": [
        "# i -> 3\n",
        "# h1 -> 4\n",
        "# h2 -> 5\n",
        "# h3 -> 3\n",
        "# o -> 1\n",
        "\n",
        "\n",
        "Wh1 = torch.randn(3, 1, requires_grad=True)\n",
        "bh1 = torch.randn(1, requires_grad=True)\n",
        "Wh2 = torch.randn(4, 5, requires_grad=True)\n",
        "bh2 = torch.randn(5, requires_grad=True)\n",
        "Wh3 = torch.randn(5, 3, requires_grad=True)\n",
        "bh3 = torch.randn(3, requires_grad=True)\n",
        "Wo = torch.randn(3, 1, requires_grad=True)\n",
        "bo = torch.randn(1, requires_grad=True)\n",
        "\n",
        "parameters = [Wh1, bh1]#, Wh2, bh2, Wh3, bh3, Wo, bo]"
      ],
      "metadata": {
        "id": "Tb7BD0wvd5Za"
      },
      "execution_count": 292,
      "outputs": []
    },
    {
      "cell_type": "code",
      "source": [
        "def model(x):\n",
        "    # return x @ Wh1 + bh1\n",
        "    h1 = torch.relu(x @ Wh1 + bh1)\n",
        "    h2 = torch.relu(h1 @ Wh2 + bh2)\n",
        "    h3 = torch.relu(h2 @ Wh3 + bh3)\n",
        "    o = h3 @ Wo + bo\n",
        "    return o"
      ],
      "metadata": {
        "id": "yOjpX1Aze9VN"
      },
      "execution_count": 293,
      "outputs": []
    },
    {
      "cell_type": "code",
      "source": [
        "def calc_loss(y_true, y_pred):\n",
        "    N = y_true.shape[0]\n",
        "    # print(y_true)\n",
        "    # print(y_pred)\n",
        "    loss = 1/N * torch.sum((y_true - y_pred)**2)\n",
        "    return loss"
      ],
      "metadata": {
        "id": "1l0p8byGii0w"
      },
      "execution_count": 294,
      "outputs": []
    },
    {
      "cell_type": "code",
      "source": [
        "y_pred = model(X)"
      ],
      "metadata": {
        "id": "rojBbo5anryD"
      },
      "execution_count": 288,
      "outputs": []
    },
    {
      "cell_type": "code",
      "source": [
        "y_pred.squeeze()"
      ],
      "metadata": {
        "colab": {
          "base_uri": "https://localhost:8080/"
        },
        "id": "pHkRwLVQrWfJ",
        "outputId": "1e6c8bed-34da-439c-9555-92a54114f024"
      },
      "execution_count": 289,
      "outputs": [
        {
          "output_type": "execute_result",
          "data": {
            "text/plain": [
              "tensor([ 7.9651, 18.2216,  8.8397,  8.0353,  3.5133, 11.1301, 13.4360, 21.4877,\n",
              "         4.1107,  5.1409,  7.2345, 11.1692,  7.2007,  4.5210,  6.9420,  2.2657,\n",
              "         7.2446,  7.5570,  4.1305,  5.7295, -0.5672,  6.3753,  2.7099,  4.0954,\n",
              "         7.8205,  7.1919,  5.3605,  3.4347,  9.7876,  6.2782,  6.6564,  1.7874,\n",
              "         5.7335,  9.7771,  4.3607,  6.2391,  6.6626,  9.3532,  0.9088,  6.7175,\n",
              "         1.3920,  5.6768,  5.7822,  6.7175,  6.7175,  5.3605,  5.3605,  1.4359,\n",
              "         3.8669,  6.6257,  6.6257,  1.1943,  6.7175,  4.6137,  5.3605,  0.9088,\n",
              "         7.0452,  9.3532,  8.1935,  5.3605,  5.3605,  2.0821,  6.9283,  7.0338,\n",
              "         5.4554,  7.8908,  5.8776,  6.8541,  0.9088, 12.0680,  3.6034,  6.7175,\n",
              "         0.0478,  4.5307, -0.8132,  5.1887,  5.7295,  5.7998,  0.6452,  5.3605,\n",
              "         0.9088,  3.6034,  9.3141,  5.3605, -1.0592,  7.3373,  1.4974, -0.8835,\n",
              "         2.1476, 14.7929,  0.0302,  0.2108,  4.3062,  6.4148,  6.7175,  3.6912,\n",
              "         3.5445,  1.2602,  5.8877,  2.2657,  5.8877,  0.4695,  4.9212,  5.6680,\n",
              "         4.9212, -0.4091,  6.2343,  1.2778, -0.1592,  7.2578,  1.4359,  2.9928,\n",
              "         7.9378,  4.0892,  0.2547,  2.6659,  6.1512,  0.2450,  1.2778,  1.8049,\n",
              "         1.3832,  1.9903,  6.9406,  7.8772,  5.8218,  9.3431,  1.9279,  5.7998,\n",
              "         0.4695,  5.7058, -0.1455,  2.1146,  0.2059, -0.1455,  1.7874,  5.3605,\n",
              "         6.1903,  1.0709,  0.0302,  1.2251,  5.1848,  7.2973, 10.6711,  7.0201,\n",
              "         1.1236,  0.0302,  3.5054,  4.9212,  1.2251,  7.2446,  0.1497,  0.8600,\n",
              "         3.0955,  7.4401,  3.2959,  5.4484,  1.6995,  3.9210,  2.6484,  2.8566,\n",
              "         2.4502,  0.9966,  7.2446,  1.6336,  5.9843,  5.7559,  2.4902,  2.7736,\n",
              "         0.7370,  7.1919,  4.9212,  4.6594,  3.0174,  6.1025, -1.0241, 10.0561,\n",
              "         3.1228,  0.9527,  1.8620,  2.8829,  5.3996,  1.9631, -1.3667,  2.6484,\n",
              "         2.7248, -1.7270,  4.3049,  0.9966, -0.6942, -2.6095,  3.6714,  5.0381,\n",
              "         1.4359, -1.5025,  7.2495,  9.7723,  2.3901,  2.5491,  0.8631, -0.6727,\n",
              "        -0.3915, -0.7649, -2.0999,  1.7386, -0.1719,  1.1723, -0.6239, -1.7270,\n",
              "        -1.7533,  1.5414, -0.2808,  6.9710,  4.4507,  5.8345, -1.8978, -0.7078,\n",
              "         0.9439,  1.6661, -1.4893,  1.7874,  4.1107,  4.4507,  2.3334,  1.1908,\n",
              "         3.2770, -0.0616,  0.1796, -0.4482, -1.1735,  9.9392, -0.9753, -0.5672,\n",
              "        -1.0724, -0.7078,  3.4979,  0.6276, -3.1981,  0.0390,  5.4084, -0.8484,\n",
              "        -0.9890, -1.0592, -1.1647, -2.1223,  0.3113,  0.3465, -1.2701,  4.3743,\n",
              "         2.3343,  5.8301, -1.2789, -1.3316,  4.3001, -2.6270,  0.9566, -0.5492,\n",
              "        -0.8484,  2.8856, -0.8132, -0.1319, -1.5846, -1.2789, -2.4250, -0.8765,\n",
              "        -1.4146, -1.8324, -0.0752, -0.0401,  1.3432, -0.9362,  4.0427,  0.0249,\n",
              "        -0.7825,  0.0693,  2.6611, -2.1772, -1.8539,  3.3824, -1.3755, -0.1319,\n",
              "        -0.1319, -1.7660, -2.4518,  0.8249,  1.1069,  1.4799, -1.9141,  0.4695,\n",
              "         0.0653, -0.5800,  8.1908, -1.7683,  3.8595, -1.8451,  4.9603, -2.3200,\n",
              "         4.1305,  3.2871,  0.7331,  1.7874, -0.7790, -1.2701, -2.4781, -0.4091,\n",
              "         2.8856, -1.3316, -0.1104, -0.7781, -0.8080,  1.0638,  0.8956, -0.3955,\n",
              "        -1.1998,  3.3222, -2.1702, -0.7996,  6.6296,  4.4749, -0.5497, -0.3700,\n",
              "        -0.5672,  3.2783,  3.1289,  0.3816, -0.4091,  0.0341,  0.5964,  1.3305,\n",
              "         4.0427, -0.8835, -2.1614,  6.4675,  1.8264, -1.7270, -2.8291, -2.3670,\n",
              "         2.7362,  3.3305, -2.3986,  4.2399,  7.4594,  1.5260,  1.9209, -2.1350,\n",
              "        -2.3371, -2.5924, -3.8079, -1.4195,  1.4996, -0.1279, -2.7149, -2.5568,\n",
              "        -0.5975, -1.8535,  1.6604,  2.8856,  5.0170,  3.0828, -2.6622, -1.1998,\n",
              "        -2.1702,  0.9263, -2.1614, -2.5708, -1.6215, -0.9314, -2.5304, -2.5304,\n",
              "        -0.7645, -2.5568, -1.9593, -1.2262, -1.5688, -3.0839,  1.8247,  0.8736,\n",
              "         3.7176,  2.5930, -2.3639, -1.2701, -1.7660, -2.2053, -1.5952,  5.3996,\n",
              "        -1.7660, -2.5216, -0.9802, -0.6375, -1.1559,  1.0357,  1.9648, -1.6953,\n",
              "        -0.8572,  2.1599, -1.3052,  2.8710, -2.5216, -0.5360, -1.6215,  0.7379,\n",
              "        -2.6341,  3.9838, -0.5536,  7.0096, -0.0577, -1.6742, -1.0456, -2.4781,\n",
              "        -2.2053, -2.9214, -0.9802, -2.4781, -2.0696,  1.8023, -2.1702, -0.1587,\n",
              "        -1.3316, -2.5216,  0.0693,  1.3520, -2.0999, -1.5464, -2.4513, -1.0680,\n",
              "        -1.6391, -2.9214, -1.9905, -2.4781, -2.1702,  1.1895, -3.5232, -0.2119,\n",
              "         0.9615,  0.0517,  0.3258, -2.1702, -2.4781,  0.8033, -1.7660, -2.2668,\n",
              "         0.1923, -0.5233, -3.3615, -0.5672, -1.6215, -4.0455,  2.2341, -2.6446,\n",
              "        -2.1219, -2.9130, -1.3316,  0.2108,  3.5445, -3.0233, -0.4091,  0.4651,\n",
              "        -2.2559, -1.7270, -0.9802, -2.6446,  1.3968, -1.3619, -2.4650, -3.0048,\n",
              "        -1.7660, -2.3810, -1.6479, -1.5161, -3.2289, -1.6782,  0.0970, -1.0680,\n",
              "         0.1835,  1.3529,  0.8178, -3.0839,  0.7770, -1.3619, -1.1998,  0.2098,\n",
              "        -1.3052, -3.3475, -1.5952,  1.4491, -3.0488, -2.5304, -0.4482,  1.7386,\n",
              "         1.5629, -1.4634, -0.5409, -3.4002, -2.0345, -0.8835,  0.2547, -0.8484,\n",
              "        -2.2053, -2.2633, -3.9625,  7.7300, -1.9027, -2.2278, -2.6622, -0.8484,\n",
              "        -2.9214, -0.8484, -3.1630, -2.5568, -1.8539,  1.8950, -1.8324, -1.5688,\n",
              "        -3.0839, -0.4970, -1.7270, -1.5425, -2.8730, -3.0839, -2.6446, -1.4673,\n",
              "         1.0454, -2.5260, -2.1882,  3.8946, -2.8520, -2.5216, -2.9258, -4.1066,\n",
              "        -3.5886, -0.8747, -2.6495,  0.2938, -3.0839, -2.2541, -0.3700, -2.7676,\n",
              "         1.3559, -2.8691, -2.5137, -3.0927, -3.0839, -2.2541, -2.5392, -1.8060,\n",
              "        -0.9802], grad_fn=<SqueezeBackward0>)"
            ]
          },
          "metadata": {},
          "execution_count": 289
        }
      ]
    },
    {
      "cell_type": "code",
      "source": [
        "loss = calc_loss(y, y_pred.squeeze())\n",
        "loss"
      ],
      "metadata": {
        "colab": {
          "base_uri": "https://localhost:8080/"
        },
        "id": "NKehldrOoAHm",
        "outputId": "331476f4-456b-4752-a819-01ccd3db92d1"
      },
      "execution_count": 276,
      "outputs": [
        {
          "output_type": "execute_result",
          "data": {
            "text/plain": [
              "tensor(8.9358, grad_fn=<MulBackward0>)"
            ]
          },
          "metadata": {},
          "execution_count": 276
        }
      ]
    },
    {
      "cell_type": "code",
      "source": [
        "loss.backward()"
      ],
      "metadata": {
        "id": "dv0C68MkoHIK"
      },
      "execution_count": 277,
      "outputs": []
    },
    {
      "cell_type": "code",
      "source": [
        "Wh1.data"
      ],
      "metadata": {
        "colab": {
          "base_uri": "https://localhost:8080/"
        },
        "id": "R65MgZ8CoTBY",
        "outputId": "4ce72a0d-a297-4780-abc7-fb26c247b032"
      },
      "execution_count": 278,
      "outputs": [
        {
          "output_type": "execute_result",
          "data": {
            "text/plain": [
              "tensor([[ 1.1521],\n",
              "        [ 0.3660],\n",
              "        [-2.7599]])"
            ]
          },
          "metadata": {},
          "execution_count": 278
        }
      ]
    },
    {
      "cell_type": "code",
      "source": [
        "Wh1.grad"
      ],
      "metadata": {
        "colab": {
          "base_uri": "https://localhost:8080/"
        },
        "id": "K0teC0RqoJwg",
        "outputId": "cdcde45e-cd36-42d0-c6c0-c9b8034494a7"
      },
      "execution_count": 279,
      "outputs": [
        {
          "output_type": "execute_result",
          "data": {
            "text/plain": [
              "tensor([[ 1.1451],\n",
              "        [-1.1192],\n",
              "        [-4.9930]])"
            ]
          },
          "metadata": {},
          "execution_count": 279
        }
      ]
    },
    {
      "cell_type": "code",
      "source": [
        "Wh1.data -= Wh1.grad * 0.001"
      ],
      "metadata": {
        "id": "PxIpSyapoM9A"
      },
      "execution_count": 281,
      "outputs": []
    },
    {
      "cell_type": "code",
      "source": [
        "Wh1.data"
      ],
      "metadata": {
        "colab": {
          "base_uri": "https://localhost:8080/"
        },
        "id": "oleo0TqNoWi9",
        "outputId": "9328f0c6-f0f2-4ade-cc6f-47c07922a733"
      },
      "execution_count": 282,
      "outputs": [
        {
          "output_type": "execute_result",
          "data": {
            "text/plain": [
              "tensor([[ 1.1509],\n",
              "        [ 0.3671],\n",
              "        [-2.7549]])"
            ]
          },
          "metadata": {},
          "execution_count": 282
        }
      ]
    },
    {
      "cell_type": "code",
      "source": [
        "# hyperparameters\n",
        "batch_size = 100\n",
        "lr = 0.0001\n",
        "epochs = 10\n",
        "\n",
        "lossi = []\n",
        "\n",
        "# for epoch in range(epochs):\n",
        "    # for ix in range(0, X.shape[0] // batch_size+1):\n",
        "for i in range(500):\n",
        "    if i > 100:\n",
        "        lr /= 10 # learning rate decay\n",
        "    # x_mini = X[ix*batch_size: (ix+1)*batch_size]\n",
        "    # y_mini = y[ix*batch_size: (ix+1)*batch_size]\n",
        "\n",
        "    y_pred = model(X) # forward pass\n",
        "    loss = calc_loss(y, y_pred.squeeze()) # calculate loss\n",
        "    lossi.append(loss.data)\n",
        "    loss.backward() # backward pass\n",
        "\n",
        "    # update parameters\n",
        "    for param in parameters:\n",
        "        param.data -= param.grad * lr\n",
        "\n",
        "    #     break\n",
        "    # break"
      ],
      "metadata": {
        "id": "2tcQcrkkirZg"
      },
      "execution_count": 295,
      "outputs": []
    },
    {
      "cell_type": "code",
      "source": [
        "import matplotlib.pyplot as plt\n",
        "\n",
        "plt.plot(lossi)\n",
        "plt.show()"
      ],
      "metadata": {
        "colab": {
          "base_uri": "https://localhost:8080/",
          "height": 430
        },
        "id": "C2JN6OQ9hcBM",
        "outputId": "e19d4b9b-b14a-4376-a92b-1be5e907938a"
      },
      "execution_count": 296,
      "outputs": [
        {
          "output_type": "display_data",
          "data": {
            "text/plain": [
              "<Figure size 640x480 with 1 Axes>"
            ],
            "image/png": "[encoded data removed]"
          },
          "metadata": {}
        }
      ]
    },
    {
      "cell_type": "code",
      "source": [
        "lossi[-1]"
      ],
      "metadata": {
        "colab": {
          "base_uri": "https://localhost:8080/"
        },
        "id": "wgzVNV8gnm1l",
        "outputId": "548eae22-73ce-4098-f3c5-ba12c3d17de3"
      },
      "execution_count": 297,
      "outputs": [
        {
          "output_type": "execute_result",
          "data": {
            "text/plain": [
              "tensor(0.0847)"
            ]
          },
          "metadata": {},
          "execution_count": 297
        }
      ]
    },
    {
      "cell_type": "code",
      "source": [
        "model(X) * scale_y"
      ],
      "metadata": {
        "colab": {
          "base_uri": "https://localhost:8080/"
        },
        "id": "XmD_jLumqXxi",
        "outputId": "e7f2fbc2-8402-4745-d743-bb6a32b7a239"
      },
      "execution_count": 299,
      "outputs": [
        {
          "output_type": "execute_result",
          "data": {
            "text/plain": [
              "tensor([[ 7850614.0000],\n",
              "        [ 4446648.5000],\n",
              "        [ 3938003.7500],\n",
              "        [ 7843847.5000],\n",
              "        [ 9487463.0000],\n",
              "        [ 2509244.7500],\n",
              "        [ 6115641.5000],\n",
              "        [ 9168822.0000],\n",
              "        [ 9429942.0000],\n",
              "        [ 4294125.5000],\n",
              "        [ 5300783.0000],\n",
              "        [ 6333882.0000],\n",
              "        [ 7924207.0000],\n",
              "        [ 8182205.0000],\n",
              "        [ 4120717.0000],\n",
              "        [ 9607580.0000],\n",
              "        [ 7919977.5000],\n",
              "        [ 4061504.5000],\n",
              "        [ 4391403.5000],\n",
              "        [ 4237450.5000],\n",
              "        [ 6051937.5000],\n",
              "        [ 4175277.2500],\n",
              "        [ 5736419.0000],\n",
              "        [ 4394787.0000],\n",
              "        [ 4036127.2500],\n",
              "        [ 7925052.5000],\n",
              "        [ 4272978.5000],\n",
              "        [ 5666632.5000],\n",
              "        [11503534.0000],\n",
              "        [ 8013025.5000],\n",
              "        [ 4148208.5000],\n",
              "        [ 5825237.5000],\n",
              "        [ 8065471.5000],\n",
              "        [ 2639512.7500],\n",
              "        [13234278.0000],\n",
              "        [ 4188388.5000],\n",
              "        [ 4147616.5000],\n",
              "        [ 7716962.5000],\n",
              "        [ 5909827.5000],\n",
              "        [ 7970731.5000],\n",
              "        [ 5863303.0000],\n",
              "        [ 4242526.0000],\n",
              "        [ 4232375.0000],\n",
              "        [ 7970731.5000],\n",
              "        [ 7970731.5000],\n",
              "        [ 4272978.5000],\n",
              "        [ 4272978.5000],\n",
              "        [ 5859073.5000],\n",
              "        [ 4416780.5000],\n",
              "        [ 4151169.2500],\n",
              "        [ 4151169.2500],\n",
              "        [ 5882336.0000],\n",
              "        [ 7970731.5000],\n",
              "        [ 4344879.5000],\n",
              "        [ 4272978.5000],\n",
              "        [ 5909827.5000],\n",
              "        [ 9147413.0000],\n",
              "        [ 7716962.5000],\n",
              "        [ 7828620.5000],\n",
              "        [ 4272978.5000],\n",
              "        [ 4272978.5000],\n",
              "        [ 1968456.5000],\n",
              "        [ 7950430.0000],\n",
              "        [ 7940279.0000],\n",
              "        [ 5472076.5000],\n",
              "        [ 4029360.5000],\n",
              "        [ 1603029.6250],\n",
              "        [ 4129176.2500],\n",
              "        [ 5909827.5000],\n",
              "        [ 7455581.5000],\n",
              "        [ 4442157.0000],\n",
              "        [ 7970731.5000],\n",
              "        [ 5992725.0000],\n",
              "        [  524471.3750],\n",
              "        [ 6075622.5000],\n",
              "        [ 8117916.5000],\n",
              "        [ 4237450.5000],\n",
              "        [ 4230683.5000],\n",
              "        [ 5935204.0000],\n",
              "        [ 4272978.5000],\n",
              "        [ 5909827.5000],\n",
              "        [ 4442157.0000],\n",
              "        [ 3892325.5000],\n",
              "        [ 4272978.5000],\n",
              "        [ 6099307.5000],\n",
              "        [ 4082651.7500],\n",
              "        [ 5853152.5000],\n",
              "        [ 6082390.0000],\n",
              "        [ 5790556.0000],\n",
              "        [ 9813395.0000],\n",
              "        [ 5994416.5000],\n",
              "        [ 2148632.0000],\n",
              "        [ 4374485.5000],\n",
              "        [ 4171470.7500],\n",
              "        [ 7970731.5000],\n",
              "        [ 4433698.0000],\n",
              "        [ 5656059.0000],\n",
              "        [ 5875991.5000],\n",
              "        [ 4222224.5000],\n",
              "        [ 9607580.0000],\n",
              "        [ 4222224.5000],\n",
              "        [ 5952122.0000],\n",
              "        [ 4315273.0000],\n",
              "        [ 4243372.0000],\n",
              "        [ 4315273.0000],\n",
              "        [ 6036711.5000],\n",
              "        [ 8017255.0000],\n",
              "        [ 5874299.5000],\n",
              "        [ 9841048.0000],\n",
              "        [ 7918708.5000],\n",
              "        [ 5859073.5000],\n",
              "        [ 5709181.0000],\n",
              "        [15510039.0000],\n",
              "        [ 5603613.5000],\n",
              "        [ 2144402.5000],\n",
              "        [ 5740648.5000],\n",
              "        [ 4196847.5000],\n",
              "        [ 9802136.0000],\n",
              "        [ 5874299.5000],\n",
              "        [ 5823546.0000],\n",
              "        [ 5864148.5000],\n",
              "        [ 5805697.5000],\n",
              "        [ 7949245.0000],\n",
              "        [ 7859073.5000],\n",
              "        [ 4228568.5000],\n",
              "        [ 5097767.5000],\n",
              "        [ 5811703.0000],\n",
              "        [ 4230683.5000],\n",
              "        [ 5952122.0000],\n",
              "        [ 5447968.0000],\n",
              "        [ 6011334.5000],\n",
              "        [ 9622129.0000],\n",
              "        [ 5977499.0000],\n",
              "        [ 6011334.5000],\n",
              "        [ 5825237.5000],\n",
              "        [ 4272978.5000],\n",
              "        [ 8021484.5000],\n",
              "        [ 9722622.0000],\n",
              "        [ 5994416.5000],\n",
              "        [ 5879374.5000],\n",
              "        [ 4289896.0000],\n",
              "        [ 7914902.0000],\n",
              "        [ 7590078.5000],\n",
              "        [11769991.0000],\n",
              "        [ 9717547.0000],\n",
              "        [ 5994416.5000],\n",
              "        [ 1831421.5000],\n",
              "        [ 4315273.0000],\n",
              "        [ 5879374.5000],\n",
              "        [ 7919977.5000],\n",
              "        [ 5982913.0000],\n",
              "        [ 9742923.0000],\n",
              "        [13356087.0000],\n",
              "        [ 2864520.5000],\n",
              "        [ 4471763.5000],\n",
              "        [ 4264519.0000],\n",
              "        [ 5833696.5000],\n",
              "        [ 8239979.5000],\n",
              "        [ 5742340.0000],\n",
              "        [ 4514058.0000],\n",
              "        [ 9589816.0000],\n",
              "        [ 5901368.5000],\n",
              "        [ 7919977.5000],\n",
              "        [ 5840041.0000],\n",
              "        [ 4212919.5000],\n",
              "        [ 4234913.0000],\n",
              "        [ 5757566.0000],\n",
              "        [  693650.5625],\n",
              "        [ 9754766.0000],\n",
              "        [ 7925052.5000],\n",
              "        [ 4315273.0000],\n",
              "        [ 5548714.5000],\n",
              "        [ 5706812.0000],\n",
              "        [ 8029943.5000],\n",
              "        [ 6095924.5000],\n",
              "        [ 7649291.0000],\n",
              "        [ 5696661.5000],\n",
              "        [ 5905598.0000],\n",
              "        [ 5818047.5000],\n",
              "        [ 4511520.5000],\n",
              "        [ 8097615.0000],\n",
              "        [ 5808320.0000],\n",
              "        [ 6128914.0000],\n",
              "        [ 5742340.0000],\n",
              "        [ 4526746.5000],\n",
              "        [ 6163596.0000],\n",
              "        [ 1754445.1250],\n",
              "        [ 5901368.5000],\n",
              "        [ 2235759.2500],\n",
              "        [ 2420164.2500],\n",
              "        [ 9472237.0000],\n",
              "        [ 5512256.5000],\n",
              "        [ 5859073.5000],\n",
              "        [ 2313581.7500],\n",
              "        [ 4091110.7500],\n",
              "        [ 6468379.5000],\n",
              "        [ 5767209.5000],\n",
              "        [ 4543664.5000],\n",
              "        [ 5914225.5000],\n",
              "        [ 6062088.0000],\n",
              "        [ 6035020.0000],\n",
              "        [ 6070970.5000],\n",
              "        [ 2371102.5000],\n",
              "        [ 9658334.0000],\n",
              "        [ 6013872.0000],\n",
              "        [ 5884450.0000],\n",
              "        [ 2228992.0000],\n",
              "        [ 6163596.0000],\n",
              "        [ 6166133.5000],\n",
              "        [ 5848922.5000],\n",
              "        [ 6024361.5000],\n",
              "        [ 5326159.5000],\n",
              "        [ 8188972.5000],\n",
              "        [ 8055743.5000],\n",
              "        [ 2351647.0000],\n",
              "        [ 6065472.0000],\n",
              "        [ 5906443.5000],\n",
              "        [ 5836911.0000],\n",
              "        [ 2312312.7500],\n",
              "        [ 5825237.5000],\n",
              "        [ 9429942.0000],\n",
              "        [ 8188972.5000],\n",
              "        [ 1944263.8750],\n",
              "        [ 5882674.0000],\n",
              "        [ 1853414.7500],\n",
              "        [ 2174854.7500],\n",
              "        [ 5980036.5000],\n",
              "        [ 2212074.0000],\n",
              "        [ 6110304.5000],\n",
              "        [ 7660541.5000],\n",
              "        [ 2262828.0000],\n",
              "        [ 6051937.5000],\n",
              "        [ 6100576.5000],\n",
              "        [ 6065472.0000],\n",
              "        [ 4452308.0000],\n",
              "        [ 5936895.5000],\n",
              "        [ 2476839.5000],\n",
              "        [ 5993570.5000],\n",
              "        [ 8096769.5000],\n",
              "        [ 6079006.0000],\n",
              "        [ 6092540.5000],\n",
              "        [ 6099307.5000],\n",
              "        [ 6109458.0000],\n",
              "        [ 6201661.0000],\n",
              "        [ 5967348.0000],\n",
              "        [ 5963964.5000],\n",
              "        [ 6119609.0000],\n",
              "        [ 9404565.0000],\n",
              "        [  735945.1250],\n",
              "        [ 8056166.0000],\n",
              "        [ 6120455.5000],\n",
              "        [ 6125530.5000],\n",
              "        [ 5583312.0000],\n",
              "        [ 2421856.2500],\n",
              "        [ 9733618.0000],\n",
              "        [ 2221802.0000],\n",
              "        [ 6079006.0000],\n",
              "        [ 5719501.0000],\n",
              "        [ 6075622.5000],\n",
              "        [ 2181622.0000],\n",
              "        [ 6149892.0000],\n",
              "        [ 6120455.5000],\n",
              "        [ 2402400.7500],\n",
              "        [ 6081713.0000],\n",
              "        [ 2305122.5000],\n",
              "        [ 6173746.5000],\n",
              "        [ 6004567.0000],\n",
              "        [ 6001184.0000],\n",
              "        [ 9696399.0000],\n",
              "        [ 6087465.5000],\n",
              "        [ 4399862.5000],\n",
              "        [13651727.0000],\n",
              "        [ 6072662.0000],\n",
              "        [ 9819054.0000],\n",
              "        [ 9569515.0000],\n",
              "        [ 2378546.2500],\n",
              "        [ 2347417.5000],\n",
              "        [ 1843264.1250],\n",
              "        [ 6129760.0000],\n",
              "        [ 2181622.0000],\n",
              "        [ 2181622.0000],\n",
              "        [ 2338958.5000],\n",
              "        [ 6233382.0000],\n",
              "        [ 9746307.0000],\n",
              "        [ 2062350.7500],\n",
              "        [ 5854844.0000],\n",
              "        [ 6181613.0000],\n",
              "        [ 5952122.0000],\n",
              "        [ 5991033.5000],\n",
              "        [ 2224762.7500],\n",
              "        [ 6620641.0000],\n",
              "        [ 6167571.5000],\n",
              "        [ 8245901.0000],\n",
              "        [ 2346571.5000],\n",
              "        [ 8139910.0000],\n",
              "        [ 6220693.5000],\n",
              "        [ 4391403.5000],\n",
              "        [ 4472609.5000],\n",
              "        [ 5926745.0000],\n",
              "        [ 5825237.5000],\n",
              "        [ 6072323.5000],\n",
              "        [ 6119609.0000],\n",
              "        [ 6235919.5000],\n",
              "        [ 6036711.5000],\n",
              "        [ 5719501.0000],\n",
              "        [ 6125530.5000],\n",
              "        [ 6007951.0000],\n",
              "        [ 6072239.5000],\n",
              "        [ 6075115.0000],\n",
              "        [ 9723299.0000],\n",
              "        [ 5911096.5000],\n",
              "        [ 2206998.7500],\n",
              "        [ 6112842.0000],\n",
              "        [ 4469225.5000],\n",
              "        [ 2377869.7500],\n",
              "        [ 2245910.2500],\n",
              "        [ 7979190.5000],\n",
              "        [ 4358244.5000],\n",
              "        [ 6050246.0000],\n",
              "        [ 9861349.0000],\n",
              "        [ 6051937.5000],\n",
              "        [ 4473455.5000],\n",
              "        [ 4487835.5000],\n",
              "        [ 5960580.5000],\n",
              "        [ 6036711.5000],\n",
              "        [ 9822438.0000],\n",
              "        [ 9768300.0000],\n",
              "        [ 5869224.0000],\n",
              "        [ 4399862.5000],\n",
              "        [ 6082390.0000],\n",
              "        [ 2377023.7500],\n",
              "        [ 4166395.2500],\n",
              "        [ 9649875.0000],\n",
              "        [ 6163596.0000],\n",
              "        [ 2441311.7500],\n",
              "        [ 2396817.7500],\n",
              "        [ 5733881.0000],\n",
              "        [ 8296823.5000],\n",
              "        [ 2399863.0000],\n",
              "        [ 8209274.0000],\n",
              "        [11727697.0000],\n",
              "        [  813767.6250],\n",
              "        [ 5812380.5000],\n",
              "        [ 2374486.0000],\n",
              "        [ 2393941.5000],\n",
              "        [ 6246916.0000],\n",
              "        [ 2535544.2500],\n",
              "        [ 6133989.0000],\n",
              "        [  816305.2500],\n",
              "        [ 6009643.0000],\n",
              "        [ 2430315.0000],\n",
              "        [ 2415089.0000],\n",
              "        [ 2226454.2500],\n",
              "        [ 6175776.5000],\n",
              "        [ 2009059.5000],\n",
              "        [ 5719501.0000],\n",
              "        [11962855.0000],\n",
              "        [ 9528912.0000],\n",
              "        [ 2425239.7500],\n",
              "        [ 6112842.0000],\n",
              "        [ 2377869.7500],\n",
              "        [ 5908135.0000],\n",
              "        [ 2377023.7500],\n",
              "        [ 2416442.2500],\n",
              "        [ 6153445.0000],\n",
              "        [ 2258598.5000],\n",
              "        [ 2412551.2500],\n",
              "        [ 2412551.2500],\n",
              "        [ 2242526.5000],\n",
              "        [ 2415089.0000],\n",
              "        [ 2357568.2500],\n",
              "        [ 6115380.0000],\n",
              "        [ 6148369.5000],\n",
              "        [ 2465842.7500],\n",
              "        [  785007.1875],\n",
              "        [ 5913210.5000],\n",
              "        [ 4431160.5000],\n",
              "        [ 4539435.0000],\n",
              "        [ 6224923.0000],\n",
              "        [ 6119609.0000],\n",
              "        [ 2338958.5000],\n",
              "        [ 2381253.2500],\n",
              "        [ 6150907.5000],\n",
              "        [ 8097615.0000],\n",
              "        [ 2338958.5000],\n",
              "        [ 2411705.5000],\n",
              "        [ 6091695.0000],\n",
              "        [ 6058705.0000],\n",
              "        [ 6108612.5000],\n",
              "        [ 9726006.0000],\n",
              "        [ 4599916.5000],\n",
              "        [ 6160550.5000],\n",
              "        [ 6079852.0000],\n",
              "        [ 5789371.5000],\n",
              "        [ 6122992.5000],\n",
              "        [17206102.0000],\n",
              "        [ 2411705.5000],\n",
              "        [ 2220533.2500],\n",
              "        [ 6153445.0000],\n",
              "        [ 2097878.5000],\n",
              "        [ 2422533.0000],\n",
              "        [ 5613764.0000],\n",
              "        [ 2222225.0000],\n",
              "        [ 5322438.0000],\n",
              "        [ 6002875.5000],\n",
              "        [ 6158520.5000],\n",
              "        [ 2269595.0000],\n",
              "        [ 6235919.5000],\n",
              "        [ 2381253.2500],\n",
              "        [ 2450193.7500],\n",
              "        [ 6091695.0000],\n",
              "        [ 6235919.5000],\n",
              "        [ 6196586.0000],\n",
              "        [ 4615565.5000],\n",
              "        [ 2377869.7500],\n",
              "        [ 6012603.5000],\n",
              "        [ 6125530.5000],\n",
              "        [ 2411705.5000],\n",
              "        [ 9819054.0000],\n",
              "        [ 9695553.0000],\n",
              "        [ 2371102.5000],\n",
              "        [ 2317811.0000],\n",
              "        [ 2404938.2500],\n",
              "        [ 6100153.5000],\n",
              "        [ 6155137.0000],\n",
              "        [ 2450193.7500],\n",
              "        [ 6188972.5000],\n",
              "        [ 6235919.5000],\n",
              "        [ 2377869.7500],\n",
              "        [ 9711202.0000],\n",
              "        [ 2508137.5000],\n",
              "        [ 9846122.0000],\n",
              "        [ 5904752.0000],\n",
              "        [ 9820746.0000],\n",
              "        [ 9794354.0000],\n",
              "        [ 2377869.7500],\n",
              "        [ 6235919.5000],\n",
              "        [ 5919978.0000],\n",
              "        [ 2338958.5000],\n",
              "        [ 2387174.2500],\n",
              "        [ 9807211.0000],\n",
              "        [ 6047708.0000],\n",
              "        [ 2492573.0000],\n",
              "        [ 6051937.5000],\n",
              "        [ 6153445.0000],\n",
              "        [-1269975.2500],\n",
              "        [  745588.5625],\n",
              "        [ 2423548.0000],\n",
              "        [ 2373217.2500],\n",
              "        [ 6277791.5000],\n",
              "        [ 6125530.5000],\n",
              "        [ 2148632.0000],\n",
              "        [ 5656059.0000],\n",
              "        [ 2460006.2500],\n",
              "        [ 6036711.5000],\n",
              "        [ 5952545.0000],\n",
              "        [ 6214518.5000],\n",
              "        [ 6163596.0000],\n",
              "        [ 6091695.0000],\n",
              "        [ 2423548.0000],\n",
              "        [ 2034436.1250],\n",
              "        [ 2300047.2500],\n",
              "        [ 6234650.5000],\n",
              "        [ 2458229.7500],\n",
              "        [ 2338958.5000],\n",
              "        [ 2398171.2500],\n",
              "        [ 6155982.5000],\n",
              "        [ 6143294.0000],\n",
              "        [ 2479800.0000],\n",
              "        [ 2330499.5000],\n",
              "        [ 5987988.0000],\n",
              "        [ 6100153.5000],\n",
              "        [ 9808058.0000],\n",
              "        [ 2038665.7500],\n",
              "        [ 9746984.0000],\n",
              "        [ 2465842.7500],\n",
              "        [ 5922515.5000],\n",
              "        [ 2300047.2500],\n",
              "        [ 6112842.0000],\n",
              "        [ 9805520.0000],\n",
              "        [ 6122992.5000],\n",
              "        [ 2491219.7500],\n",
              "        [ 6150907.5000],\n",
              "        [ 5857804.5000],\n",
              "        [ 2462459.2500],\n",
              "        [ 2412551.2500],\n",
              "        [ 2212074.0000],\n",
              "        [ 9658334.0000],\n",
              "        [ 9675252.0000],\n",
              "        [ 6138218.5000],\n",
              "        [ 6049400.0000],\n",
              "        [ 2496295.0000],\n",
              "        [ 6193202.0000],\n",
              "        [ 6082390.0000],\n",
              "        [ 2144402.5000],\n",
              "        [ 6079006.0000],\n",
              "        [ 2381253.2500],\n",
              "        [ 2386836.0000],\n",
              "        [ 2550432.0000],\n",
              "        [ 2836606.2500],\n",
              "        [ 6180513.5000],\n",
              "        [ 6211812.0000],\n",
              "        [ 2425239.7500],\n",
              "        [ 6079006.0000],\n",
              "        [ 2450193.7500],\n",
              "        [ 6079006.0000],\n",
              "        [ 2473455.7500],\n",
              "        [ 2415089.0000],\n",
              "        [ 2347417.5000],\n",
              "        [  778239.9375],\n",
              "        [ 6173746.5000],\n",
              "        [ 6148369.5000],\n",
              "        [ 2465842.7500],\n",
              "        [ 6045170.5000],\n",
              "        [ 6163596.0000],\n",
              "        [ 6145832.0000],\n",
              "        [ 2445541.2500],\n",
              "        [ 2465842.7500],\n",
              "        [ 2423548.0000],\n",
              "        [ 2310198.0000],\n",
              "        [ 2068271.8750],\n",
              "        [ 2412128.5000],\n",
              "        [ 6208005.0000],\n",
              "        [ 8242517.0000],\n",
              "        [ 2443511.2500],\n",
              "        [ 2411705.5000],\n",
              "        [ 2450616.7500],\n",
              "        [ 2564304.7500],\n",
              "        [-1313961.7500],\n",
              "        [ 6081544.0000],\n",
              "        [ 6252414.5000],\n",
              "        [ 5969040.0000],\n",
              "        [ 2465842.7500],\n",
              "        [ 6214349.5000],\n",
              "        [ 9861349.0000],\n",
              "        [ 2435390.7500],\n",
              "        [13523574.0000],\n",
              "        [ 6273562.5000],\n",
              "        [ 2410944.0000],\n",
              "        [ 2466688.7500],\n",
              "        [ 2465842.7500],\n",
              "        [ 6214349.5000],\n",
              "        [ 2413397.2500],\n",
              "        [ 6171208.5000],\n",
              "        [ 6091695.0000]], grad_fn=<MulBackward0>)"
            ]
          },
          "metadata": {},
          "execution_count": 299
        }
      ]
    },
    {
      "cell_type": "code",
      "source": [],
      "metadata": {
        "id": "_hokV4JTtiis"
      },
      "execution_count": null,
      "outputs": []
    }
  ]
}