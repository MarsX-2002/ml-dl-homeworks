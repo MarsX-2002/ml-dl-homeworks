{
 "cells": [
  {
   "cell_type": "markdown",
   "id": "ddfe66c9",
   "metadata": {},
   "source": [
    "`memorization` - learning frequent patterns from historical data. <br>\n",
    "Example: if many users who installed Netflix later installed Pandora, the model “remembers” that specific pair.\n",
    "<br><br>\n",
    "`generalization` - using learned patterns to make predictions about new data. <br>\n",
    "Example: if a user likes Spotify and YouTube, the model can infer they might like SoundCloud, even if that combo never appeared in the data.\n",
    "<br><br>\n",
    "`memorization` = specific rules from past,<br>\n",
    "`generalization` = reasoning about new situations using what’s learned.\n",
    "<br><br>\n",
    "`final_output = sigmoid( wide_score + deep_score + bias )`\n",
    "<br><br>\n",
    "By concatenating all embeddings into one long vector, the deep network can learn interactions across feature types.<br>\n",
    "- Maybe the combination of user’s country 🇺🇸 + app category 🎮 + device type 📱 influences installs.\n",
    "- If each feature type had its own separate subnetwork, they’d learn patterns independently — the model couldn’t mix information across them."
   ]
  },
  {
   "cell_type": "markdown",
   "id": "c47a1309",
   "metadata": {},
   "source": []
  },
  {
   "cell_type": "markdown",
   "id": "15da5134",
   "metadata": {},
   "source": []
  }
 ],
 "metadata": {
  "kernelspec": {
   "display_name": ".venv",
   "language": "python",
   "name": "python3"
  },
  "language_info": {
   "name": "python",
   "version": "3.12.3"
  }
 },
 "nbformat": 4,
 "nbformat_minor": 5
}
